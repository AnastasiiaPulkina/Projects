{
 "cells": [
  {
   "cell_type": "markdown",
   "id": "daa65ce6",
   "metadata": {},
   "source": [
    "# Активность пользователей в поиске VK Видео \n",
    "- Автор: Пулькина Анастасия\n",
    "- Дата: 02.04.2025"
   ]
  },
  {
   "cell_type": "markdown",
   "id": "abadc878",
   "metadata": {},
   "source": [
    "<div class=\"alert alert-info\">\n",
    "\n",
    "### Цели и задачи проекта\n",
    "    \n",
    "    \n",
    "</div>\n",
    "\n",
    "**Цель проекта** - анализ данных об активности пользователей в поиске VK Видео. \n",
    "\n",
    "**Задачи**:\n",
    " 1. Знакомство с данными: загрузка, предобработка (обработка типа данных и пропусков)  \n",
    " 2. Поиск точек роста продукта: в каких случаях поиск показывает плохое качество.\n",
    " 3. Используя визуализацию показать проблемные случаи  \n",
    " 4. Краткие выводы "
   ]
  },
  {
   "cell_type": "markdown",
   "id": "66db5961",
   "metadata": {},
   "source": [
    "Датасет `analytics_test.csv` содержит информаию о пользователях и их запросах. В датасете представленны следующие данные: \n",
    "- `user_id`\t- идентификатор пользователя\n",
    "- `sex`\t- пол пользователя\n",
    "- `age`\t- возраст\n",
    "- `platform` - платформа\t\n",
    "- `query_id` - идентификатор поиска\t\n",
    "- `query_text` - текст введенного запроса\t\n",
    "- `query_type` - тема запроса  \t\n",
    "- `event` - действие, которое совершает пользователь (`tap`, `like`, `subscribe`, `view`, `share`, `search`)\t\n",
    "- `click_position` - номер позиции, по которой кликает пользователь\t\n",
    "- `doc_type`\t- тип документа по которому совершется событие `event`\n",
    "- `view_time` - время просмотра"
   ]
  },
  {
   "cell_type": "markdown",
   "id": "d6d1097e",
   "metadata": {},
   "source": [
    "Для начала необходимо определить, что будем считать плохим качесвтом поиска. Критерии могут быть следующими: \n",
    "- Низкая релевантность выдачи (приходится кликать на более далекие позиции `click_position`, чтобы найти ответ)\n",
    "- Короткое время просмотра `view_time`, что может говорить о том, что пользователь не вовлекся и быстро ушел со страницы \n",
    "- Мало действий `event`, что готовит о низкой вовлеченности пользователя\n",
    "- Повторные поиски `search` в `event` по похожему запросу\n"
   ]
  },
  {
   "cell_type": "markdown",
   "id": "98079e58",
   "metadata": {},
   "source": [
    "<div class=\"alert alert-info\">\n",
    "    \n",
    "### Содержимое проекта\n",
    "</div>\n",
    "\n",
    "1. [Загрузка и предобработка данных](#download_data)\n",
    "2. [Исследовательский анализ данных](#eda)\n",
    "3. [Итоговый вывод](#summary)\n",
    "---"
   ]
  },
  {
   "cell_type": "markdown",
   "id": "881a0d97",
   "metadata": {},
   "source": [
    "<div class=\"alert alert-info\">\n",
    "    \n",
    "## Загрузка, знакомство с данных и их предобработка\n",
    "<a id='download_data'></a>\n",
    "</div>"
   ]
  },
  {
   "cell_type": "code",
   "execution_count": 1,
   "id": "b978cf07",
   "metadata": {},
   "outputs": [],
   "source": [
    "# Импортирую необходимые библиотеки \n",
    "import pandas as pd\n",
    "import matplotlib.pyplot as plt\n",
    "import seaborn as sns\n",
    "import numpy as np"
   ]
  },
  {
   "cell_type": "code",
   "execution_count": 2,
   "id": "f4a31810",
   "metadata": {},
   "outputs": [
    {
     "name": "stdout",
     "output_type": "stream",
     "text": [
      "Requirement already satisfied: phik in /Users/a1234/anaconda3/lib/python3.11/site-packages (0.12.4)\n",
      "Requirement already satisfied: numpy>=1.18.0 in /Users/a1234/anaconda3/lib/python3.11/site-packages (from phik) (1.24.3)\n",
      "Requirement already satisfied: scipy>=1.5.2 in /Users/a1234/anaconda3/lib/python3.11/site-packages (from phik) (1.11.1)\n",
      "Requirement already satisfied: pandas>=0.25.1 in /Users/a1234/anaconda3/lib/python3.11/site-packages (from phik) (2.0.3)\n",
      "Requirement already satisfied: matplotlib>=2.2.3 in /Users/a1234/anaconda3/lib/python3.11/site-packages (from phik) (3.7.2)\n",
      "Requirement already satisfied: joblib>=0.14.1 in /Users/a1234/anaconda3/lib/python3.11/site-packages (from phik) (1.2.0)\n",
      "Requirement already satisfied: contourpy>=1.0.1 in /Users/a1234/anaconda3/lib/python3.11/site-packages (from matplotlib>=2.2.3->phik) (1.0.5)\n",
      "Requirement already satisfied: cycler>=0.10 in /Users/a1234/anaconda3/lib/python3.11/site-packages (from matplotlib>=2.2.3->phik) (0.11.0)\n",
      "Requirement already satisfied: fonttools>=4.22.0 in /Users/a1234/anaconda3/lib/python3.11/site-packages (from matplotlib>=2.2.3->phik) (4.25.0)\n",
      "Requirement already satisfied: kiwisolver>=1.0.1 in /Users/a1234/anaconda3/lib/python3.11/site-packages (from matplotlib>=2.2.3->phik) (1.4.4)\n",
      "Requirement already satisfied: packaging>=20.0 in /Users/a1234/anaconda3/lib/python3.11/site-packages (from matplotlib>=2.2.3->phik) (23.1)\n",
      "Requirement already satisfied: pillow>=6.2.0 in /Users/a1234/anaconda3/lib/python3.11/site-packages (from matplotlib>=2.2.3->phik) (9.4.0)\n",
      "Requirement already satisfied: pyparsing<3.1,>=2.3.1 in /Users/a1234/anaconda3/lib/python3.11/site-packages (from matplotlib>=2.2.3->phik) (3.0.9)\n",
      "Requirement already satisfied: python-dateutil>=2.7 in /Users/a1234/anaconda3/lib/python3.11/site-packages (from matplotlib>=2.2.3->phik) (2.8.2)\n",
      "Requirement already satisfied: pytz>=2020.1 in /Users/a1234/anaconda3/lib/python3.11/site-packages (from pandas>=0.25.1->phik) (2023.3.post1)\n",
      "Requirement already satisfied: tzdata>=2022.1 in /Users/a1234/anaconda3/lib/python3.11/site-packages (from pandas>=0.25.1->phik) (2023.3)\n",
      "Requirement already satisfied: six>=1.5 in /Users/a1234/anaconda3/lib/python3.11/site-packages (from python-dateutil>=2.7->matplotlib>=2.2.3->phik) (1.16.0)\n"
     ]
    }
   ],
   "source": [
    "!pip install phik\n",
    "from phik import phik_matrix"
   ]
  },
  {
   "cell_type": "code",
   "execution_count": 3,
   "id": "87f88e27",
   "metadata": {},
   "outputs": [
    {
     "name": "stdout",
     "output_type": "stream",
     "text": [
      "Requirement already satisfied: matplotlib-venn in /Users/a1234/anaconda3/lib/python3.11/site-packages (1.1.2)\n",
      "Requirement already satisfied: matplotlib in /Users/a1234/anaconda3/lib/python3.11/site-packages (from matplotlib-venn) (3.7.2)\n",
      "Requirement already satisfied: numpy in /Users/a1234/anaconda3/lib/python3.11/site-packages (from matplotlib-venn) (1.24.3)\n",
      "Requirement already satisfied: scipy in /Users/a1234/anaconda3/lib/python3.11/site-packages (from matplotlib-venn) (1.11.1)\n",
      "Requirement already satisfied: contourpy>=1.0.1 in /Users/a1234/anaconda3/lib/python3.11/site-packages (from matplotlib->matplotlib-venn) (1.0.5)\n",
      "Requirement already satisfied: cycler>=0.10 in /Users/a1234/anaconda3/lib/python3.11/site-packages (from matplotlib->matplotlib-venn) (0.11.0)\n",
      "Requirement already satisfied: fonttools>=4.22.0 in /Users/a1234/anaconda3/lib/python3.11/site-packages (from matplotlib->matplotlib-venn) (4.25.0)\n",
      "Requirement already satisfied: kiwisolver>=1.0.1 in /Users/a1234/anaconda3/lib/python3.11/site-packages (from matplotlib->matplotlib-venn) (1.4.4)\n",
      "Requirement already satisfied: packaging>=20.0 in /Users/a1234/anaconda3/lib/python3.11/site-packages (from matplotlib->matplotlib-venn) (23.1)\n",
      "Requirement already satisfied: pillow>=6.2.0 in /Users/a1234/anaconda3/lib/python3.11/site-packages (from matplotlib->matplotlib-venn) (9.4.0)\n",
      "Requirement already satisfied: pyparsing<3.1,>=2.3.1 in /Users/a1234/anaconda3/lib/python3.11/site-packages (from matplotlib->matplotlib-venn) (3.0.9)\n",
      "Requirement already satisfied: python-dateutil>=2.7 in /Users/a1234/anaconda3/lib/python3.11/site-packages (from matplotlib->matplotlib-venn) (2.8.2)\n",
      "Requirement already satisfied: six>=1.5 in /Users/a1234/anaconda3/lib/python3.11/site-packages (from python-dateutil>=2.7->matplotlib->matplotlib-venn) (1.16.0)\n"
     ]
    }
   ],
   "source": [
    "!pip install matplotlib-venn\n",
    "from matplotlib_venn import venn3"
   ]
  },
  {
   "cell_type": "code",
   "execution_count": 13,
   "id": "4c9f81f1",
   "metadata": {},
   "outputs": [],
   "source": [
    "import requests"
   ]
  },
  {
   "cell_type": "code",
   "execution_count": 14,
   "id": "e953215a",
   "metadata": {},
   "outputs": [
    {
     "data": {
      "text/html": [
       "<div>\n",
       "<style scoped>\n",
       "    .dataframe tbody tr th:only-of-type {\n",
       "        vertical-align: middle;\n",
       "    }\n",
       "\n",
       "    .dataframe tbody tr th {\n",
       "        vertical-align: top;\n",
       "    }\n",
       "\n",
       "    .dataframe thead th {\n",
       "        text-align: right;\n",
       "    }\n",
       "</style>\n",
       "<table border=\"1\" class=\"dataframe\">\n",
       "  <thead>\n",
       "    <tr style=\"text-align: right;\">\n",
       "      <th></th>\n",
       "      <th>Unnamed: 0</th>\n",
       "      <th>user_id</th>\n",
       "      <th>sex</th>\n",
       "      <th>age</th>\n",
       "      <th>platform</th>\n",
       "      <th>query_id</th>\n",
       "      <th>query_text</th>\n",
       "      <th>query_type</th>\n",
       "      <th>event</th>\n",
       "      <th>click_position</th>\n",
       "      <th>doc_type</th>\n",
       "      <th>view_time</th>\n",
       "    </tr>\n",
       "  </thead>\n",
       "  <tbody>\n",
       "    <tr>\n",
       "      <th>0</th>\n",
       "      <td>0</td>\n",
       "      <td>96422511</td>\n",
       "      <td>female</td>\n",
       "      <td>68</td>\n",
       "      <td>android</td>\n",
       "      <td>89656828</td>\n",
       "      <td>передачи о новых технологиях</td>\n",
       "      <td>show</td>\n",
       "      <td>share</td>\n",
       "      <td>6</td>\n",
       "      <td>playlist</td>\n",
       "      <td>0</td>\n",
       "    </tr>\n",
       "    <tr>\n",
       "      <th>1</th>\n",
       "      <td>1</td>\n",
       "      <td>45247030</td>\n",
       "      <td>male</td>\n",
       "      <td>62</td>\n",
       "      <td>android_tv</td>\n",
       "      <td>89784877</td>\n",
       "      <td>автопрому новости</td>\n",
       "      <td>news</td>\n",
       "      <td>search</td>\n",
       "      <td>0</td>\n",
       "      <td>NaN</td>\n",
       "      <td>0</td>\n",
       "    </tr>\n",
       "    <tr>\n",
       "      <th>2</th>\n",
       "      <td>2</td>\n",
       "      <td>79572413</td>\n",
       "      <td>male</td>\n",
       "      <td>12</td>\n",
       "      <td>web</td>\n",
       "      <td>10555855</td>\n",
       "      <td>логистическое законодательство</td>\n",
       "      <td>news</td>\n",
       "      <td>search</td>\n",
       "      <td>0</td>\n",
       "      <td>NaN</td>\n",
       "      <td>0</td>\n",
       "    </tr>\n",
       "    <tr>\n",
       "      <th>3</th>\n",
       "      <td>3</td>\n",
       "      <td>821317</td>\n",
       "      <td>female</td>\n",
       "      <td>58</td>\n",
       "      <td>android_tv</td>\n",
       "      <td>72054848</td>\n",
       "      <td>банковские премии новости</td>\n",
       "      <td>news</td>\n",
       "      <td>search</td>\n",
       "      <td>0</td>\n",
       "      <td>NaN</td>\n",
       "      <td>0</td>\n",
       "    </tr>\n",
       "    <tr>\n",
       "      <th>4</th>\n",
       "      <td>4</td>\n",
       "      <td>6206023</td>\n",
       "      <td>female</td>\n",
       "      <td>24</td>\n",
       "      <td>android</td>\n",
       "      <td>20838049</td>\n",
       "      <td>вики шоу аманда</td>\n",
       "      <td>show</td>\n",
       "      <td>subscribe</td>\n",
       "      <td>7</td>\n",
       "      <td>author</td>\n",
       "      <td>0</td>\n",
       "    </tr>\n",
       "  </tbody>\n",
       "</table>\n",
       "</div>"
      ],
      "text/plain": [
       "   Unnamed: 0   user_id     sex  age    platform  query_id  \\\n",
       "0           0  96422511  female   68     android  89656828   \n",
       "1           1  45247030    male   62  android_tv  89784877   \n",
       "2           2  79572413    male   12         web  10555855   \n",
       "3           3    821317  female   58  android_tv  72054848   \n",
       "4           4   6206023  female   24     android  20838049   \n",
       "\n",
       "                       query_text query_type      event  click_position  \\\n",
       "0    передачи о новых технологиях       show      share               6   \n",
       "1               автопрому новости       news     search               0   \n",
       "2  логистическое законодательство       news     search               0   \n",
       "3       банковские премии новости       news     search               0   \n",
       "4                 вики шоу аманда       show  subscribe               7   \n",
       "\n",
       "   doc_type  view_time  \n",
       "0  playlist          0  \n",
       "1       NaN          0  \n",
       "2       NaN          0  \n",
       "3       NaN          0  \n",
       "4    author          0  "
      ]
     },
     "execution_count": 14,
     "metadata": {},
     "output_type": "execute_result"
    }
   ],
   "source": [
    "# Загружаю датасет\n",
    "\n",
    "public_key = \"https://disk.yandex.ru/d/GruOijWHnJE1og\"  \n",
    "\n",
    "# 1. Запрашиваем у API Яндекс.Диска прямой (download) URL для чтения файла\n",
    "api_endpoint = \"https://cloud-api.yandex.net/v1/disk/public/resources/download\"\n",
    "params = {\"public_key\": public_key}\n",
    "response = requests.get(api_endpoint, params=params)\n",
    "response.raise_for_status()  \n",
    "\n",
    "download_url = response.json()[\"href\"]\n",
    "# Теперь download_url — это прямой адрес к самому файлу без CAPTCHA\n",
    "\n",
    "# 2. Считываем CSV напрямую из полученного download_url\n",
    "df = pd.read_csv(download_url)\n",
    "\n",
    "df.head()"
   ]
  },
  {
   "cell_type": "code",
   "execution_count": 15,
   "id": "1bf2b08e",
   "metadata": {},
   "outputs": [
    {
     "name": "stdout",
     "output_type": "stream",
     "text": [
      "<class 'pandas.core.frame.DataFrame'>\n",
      "RangeIndex: 20000 entries, 0 to 19999\n",
      "Data columns (total 12 columns):\n",
      " #   Column          Non-Null Count  Dtype \n",
      "---  ------          --------------  ----- \n",
      " 0   Unnamed: 0      20000 non-null  int64 \n",
      " 1   user_id         20000 non-null  int64 \n",
      " 2   sex             20000 non-null  object\n",
      " 3   age             20000 non-null  int64 \n",
      " 4   platform        20000 non-null  object\n",
      " 5   query_id        20000 non-null  int64 \n",
      " 6   query_text      20000 non-null  object\n",
      " 7   query_type      20000 non-null  object\n",
      " 8   event           20000 non-null  object\n",
      " 9   click_position  20000 non-null  int64 \n",
      " 10  doc_type        15042 non-null  object\n",
      " 11  view_time       20000 non-null  int64 \n",
      "dtypes: int64(6), object(6)\n",
      "memory usage: 1.8+ MB\n"
     ]
    }
   ],
   "source": [
    "df.info()"
   ]
  },
  {
   "cell_type": "code",
   "execution_count": 6,
   "id": "b0168818",
   "metadata": {},
   "outputs": [
    {
     "name": "stderr",
     "output_type": "stream",
     "text": [
      "/Users/a1234/anaconda3/lib/python3.11/site-packages/pandas/io/formats/style.py:3618: RuntimeWarning: All-NaN slice encountered\n",
      "  smin = np.nanmin(gmap) if vmin is None else vmin\n",
      "/Users/a1234/anaconda3/lib/python3.11/site-packages/pandas/io/formats/style.py:3619: RuntimeWarning: All-NaN slice encountered\n",
      "  smax = np.nanmax(gmap) if vmax is None else vmax\n"
     ]
    },
    {
     "data": {
      "text/html": [
       "<style type=\"text/css\">\n",
       "#T_09807_row0_col0, #T_09807_row1_col0, #T_09807_row2_col0, #T_09807_row3_col0, #T_09807_row4_col0, #T_09807_row5_col0, #T_09807_row6_col0, #T_09807_row7_col0, #T_09807_row8_col0, #T_09807_row9_col0, #T_09807_row10_col0, #T_09807_row11_col0, #T_09807_row12_col0, #T_09807_row13_col0, #T_09807_row14_col0, #T_09807_row15_col0, #T_09807_row16_col0, #T_09807_row17_col0, #T_09807_row18_col0, #T_09807_row19_col0, #T_09807_row20_col0, #T_09807_row21_col0, #T_09807_row22_col0, #T_09807_row23_col0, #T_09807_row24_col0, #T_09807_row25_col0, #T_09807_row26_col0, #T_09807_row27_col0, #T_09807_row28_col0, #T_09807_row29_col0, #T_09807_row30_col0, #T_09807_row31_col0, #T_09807_row32_col0, #T_09807_row33_col0, #T_09807_row34_col0, #T_09807_row35_col0, #T_09807_row36_col0, #T_09807_row37_col0, #T_09807_row38_col0, #T_09807_row39_col0, #T_09807_row40_col0, #T_09807_row41_col0, #T_09807_row42_col0, #T_09807_row43_col0, #T_09807_row44_col0, #T_09807_row45_col0, #T_09807_row46_col0, #T_09807_row47_col0, #T_09807_row48_col0, #T_09807_row49_col0, #T_09807_row50_col0, #T_09807_row51_col0, #T_09807_row52_col0, #T_09807_row53_col0, #T_09807_row54_col0, #T_09807_row55_col0, #T_09807_row56_col0, #T_09807_row57_col0, #T_09807_row58_col0, #T_09807_row59_col0, #T_09807_row60_col0, #T_09807_row61_col0, #T_09807_row62_col0, #T_09807_row63_col0, #T_09807_row64_col0, #T_09807_row65_col0, #T_09807_row66_col0, #T_09807_row67_col0, #T_09807_row68_col0, #T_09807_row69_col0, #T_09807_row70_col0, #T_09807_row71_col0, #T_09807_row72_col0, #T_09807_row73_col0, #T_09807_row74_col0, #T_09807_row75_col0, #T_09807_row76_col0, #T_09807_row77_col0, #T_09807_row78_col0, #T_09807_row79_col0, #T_09807_row80_col0, #T_09807_row81_col0, #T_09807_row82_col0, #T_09807_row83_col0 {\n",
       "  background-color: #3b4cc0;\n",
       "  color: #f1f1f1;\n",
       "}\n",
       "#T_09807_row0_col1, #T_09807_row1_col1, #T_09807_row2_col1, #T_09807_row3_col1, #T_09807_row4_col1, #T_09807_row5_col1, #T_09807_row6_col1, #T_09807_row7_col1, #T_09807_row8_col1, #T_09807_row9_col1, #T_09807_row10_col1, #T_09807_row11_col1, #T_09807_row12_col1, #T_09807_row13_col1, #T_09807_row14_col1, #T_09807_row15_col1, #T_09807_row16_col1, #T_09807_row17_col1, #T_09807_row18_col1, #T_09807_row19_col1, #T_09807_row20_col1, #T_09807_row21_col1, #T_09807_row22_col1, #T_09807_row23_col1, #T_09807_row24_col1, #T_09807_row25_col1, #T_09807_row26_col1, #T_09807_row27_col1, #T_09807_row28_col1, #T_09807_row29_col1, #T_09807_row30_col1, #T_09807_row31_col1, #T_09807_row32_col1, #T_09807_row33_col1, #T_09807_row34_col1, #T_09807_row35_col1, #T_09807_row36_col1, #T_09807_row37_col1, #T_09807_row38_col1, #T_09807_row39_col1, #T_09807_row40_col1, #T_09807_row41_col1, #T_09807_row42_col1, #T_09807_row43_col1, #T_09807_row44_col1, #T_09807_row45_col1, #T_09807_row46_col1, #T_09807_row47_col1, #T_09807_row48_col1, #T_09807_row49_col1, #T_09807_row50_col1, #T_09807_row51_col1, #T_09807_row52_col1, #T_09807_row53_col1, #T_09807_row54_col1, #T_09807_row55_col1, #T_09807_row56_col1, #T_09807_row57_col1, #T_09807_row58_col1, #T_09807_row59_col1, #T_09807_row60_col1, #T_09807_row61_col1, #T_09807_row62_col1, #T_09807_row63_col1, #T_09807_row64_col1, #T_09807_row65_col1, #T_09807_row66_col1, #T_09807_row67_col1, #T_09807_row68_col1, #T_09807_row69_col1, #T_09807_row70_col1, #T_09807_row71_col1, #T_09807_row72_col1, #T_09807_row73_col1, #T_09807_row74_col1, #T_09807_row75_col1, #T_09807_row76_col1, #T_09807_row77_col1, #T_09807_row78_col1, #T_09807_row79_col1, #T_09807_row80_col1, #T_09807_row81_col1, #T_09807_row82_col1, #T_09807_row83_col1 {\n",
       "  background-color: #000000;\n",
       "  color: #f1f1f1;\n",
       "}\n",
       "</style>\n",
       "<table id=\"T_09807\">\n",
       "  <thead>\n",
       "    <tr>\n",
       "      <th class=\"blank level0\" >&nbsp;</th>\n",
       "      <th id=\"T_09807_level0_col0\" class=\"col_heading level0 col0\" >Кол-во пропусков</th>\n",
       "      <th id=\"T_09807_level0_col1\" class=\"col_heading level0 col1\" >Доля пропусков</th>\n",
       "    </tr>\n",
       "  </thead>\n",
       "  <tbody>\n",
       "    <tr>\n",
       "      <th id=\"T_09807_level0_row0\" class=\"row_heading level0 row0\" ><!doctype html><html prefix=\"og: http://ogp.me/ns#\" lang=\"ru\"><meta http-equiv=\"X-UA-Compatible\" content=\"IE=edge\"><meta charset=\"utf-8\"><meta name=\"viewport\" content=\"width=device-width</th>\n",
       "      <td id=\"T_09807_row0_col0\" class=\"data row0 col0\" >0.000000</td>\n",
       "      <td id=\"T_09807_row0_col1\" class=\"data row0 col1\" >nan</td>\n",
       "    </tr>\n",
       "    <tr>\n",
       "      <th id=\"T_09807_level0_row1\" class=\"row_heading level0 row1\" >sitekey:\"\"</th>\n",
       "      <td id=\"T_09807_row1_col0\" class=\"data row1 col0\" >0.000000</td>\n",
       "      <td id=\"T_09807_row1_col1\" class=\"data row1 col1\" >nan</td>\n",
       "    </tr>\n",
       "    <tr>\n",
       "      <th id=\"T_09807_level0_row2\" class=\"row_heading level0 row2\" >linksVisible:\"yes\"}</script><script src=\"/captcha_smart_error.34006bbf7a513fd1b63d.min.js?k=1732741901550\" crossorigin=\"\"></script><script src=\"/captcha_smart_react.min.js?k=1732741901550\" crossorigin=\"\"></script><script src=\"/captcha_smart.34006bbf7a513fd1b63d.js?k=1732741901550\" crossorigin=\"\"></script><script>!function(e</th>\n",
       "      <td id=\"T_09807_row2_col0\" class=\"data row2 col0\" >0.000000</td>\n",
       "      <td id=\"T_09807_row2_col1\" class=\"data row2 col1\" >nan</td>\n",
       "    </tr>\n",
       "    <tr>\n",
       "      <th id=\"T_09807_level0_row3\" class=\"row_heading level0 row3\" >firstLetterHighlighted:\"\"</th>\n",
       "      <td id=\"T_09807_row3_col0\" class=\"data row3 col0\" >0.000000</td>\n",
       "      <td id=\"T_09807_row3_col1\" class=\"data row3 col1\" >nan</td>\n",
       "    </tr>\n",
       "    <tr>\n",
       "      <th id=\"T_09807_level0_row4\" class=\"row_heading level0 row4\" >support:\"https://yandex.ru/support/smart-captcha/problems.html?form-unique_key=6695404158449379722&form-fb-hint=8.73\"</th>\n",
       "      <td id=\"T_09807_row4_col0\" class=\"data row4 col0\" >0.000000</td>\n",
       "      <td id=\"T_09807_row4_col1\" class=\"data row4 col1\" >nan</td>\n",
       "    </tr>\n",
       "    <tr>\n",
       "      <th id=\"T_09807_level0_row5\" class=\"row_heading level0 row5\" >ogImage:\"https://yastatic.net/s3/home-static/_/37/37a02b5dc7a51abac55d8a5b6c865f0e.png\"</th>\n",
       "      <td id=\"T_09807_row5_col0\" class=\"data row5 col0\" >0.000000</td>\n",
       "      <td id=\"T_09807_row5_col1\" class=\"data row5 col1\" >nan</td>\n",
       "    </tr>\n",
       "    <tr>\n",
       "      <th id=\"T_09807_level0_row6\" class=\"row_heading level0 row6\" >ogDescription:\"Найдётся всё\"</th>\n",
       "      <td id=\"T_09807_row6_col0\" class=\"data row6 col0\" >0.000000</td>\n",
       "      <td id=\"T_09807_row6_col1\" class=\"data row6 col1\" >nan</td>\n",
       "    </tr>\n",
       "    <tr>\n",
       "      <th id=\"T_09807_level0_row7\" class=\"row_heading level0 row7\" >ogTitle:\"Яндекс\"</th>\n",
       "      <td id=\"T_09807_row7_col0\" class=\"data row7 col0\" >0.000000</td>\n",
       "      <td id=\"T_09807_row7_col1\" class=\"data row7 col1\" >nan</td>\n",
       "    </tr>\n",
       "    <tr>\n",
       "      <th id=\"T_09807_level0_row8\" class=\"row_heading level0 row8\" >timestamp:\"1749036738\"</th>\n",
       "      <td id=\"T_09807_row8_col0\" class=\"data row8 col0\" >0.000000</td>\n",
       "      <td id=\"T_09807_row8_col1\" class=\"data row8 col1\" >nan</td>\n",
       "    </tr>\n",
       "    <tr>\n",
       "      <th id=\"T_09807_level0_row9\" class=\"row_heading level0 row9\" >smartCaptchaHost:\"\"</th>\n",
       "      <td id=\"T_09807_row9_col0\" class=\"data row9 col0\" >0.000000</td>\n",
       "      <td id=\"T_09807_row9_col1\" class=\"data row9 col1\" >nan</td>\n",
       "    </tr>\n",
       "    <tr>\n",
       "      <th id=\"T_09807_level0_row10\" class=\"row_heading level0 row10\" >powComplexity:\"15\"</th>\n",
       "      <td id=\"T_09807_row10_col0\" class=\"data row10 col0\" >0.000000</td>\n",
       "      <td id=\"T_09807_row10_col1\" class=\"data row10 col1\" >nan</td>\n",
       "    </tr>\n",
       "    <tr>\n",
       "      <th id=\"T_09807_level0_row11\" class=\"row_heading level0 row11\" >initial-scale=1\"><title data-react-helmet=\"true\">Вы не робот?</title><meta data-react-helmet=\"true\" property=\"og:title\" content=\"Яндекс\"><meta data-react-helmet=\"true\" property=\"og:description\" content=\"Найдётся всё\"><meta data-react-helmet=\"true\" property=\"og:image\" content=\"https://yastatic.net/s3/home-static/_/37/37a02b5dc7a51abac55d8a5b6c865f0e.png\"><link rel=\"stylesheet\" href=\"/captcha_smart.34006bbf7a513fd1b63d.min.css?k=1732741901550\"><style>@media only screen and (min-width:651px) and (prefers-color-scheme:light){body{background-image:url('https://captcha-backgrounds.s3.yandex.net/static/default-background.jpg')}.LogoLink{background-image:url('https://cdnrhkgfkkpupuotntfj.svc.cdn.yandex.net/yandexrulogo.svg')}}@media only screen and (min-width:651px) and (prefers-color-scheme:dark){body{background-image:url('https://captcha-backgrounds.s3.yandex.net/static/dark-background.jpg')}.LogoLink{background-image:url('https://cdnrhkgfkkpupuotntfj.svc.cdn.yandex.net/yandexrulogo.svg')}}@media (prefers-color-scheme:dark){.Theme_root_default{--smart-captcha-background-color:#313036;--checkbox-captcha-error-color:#f33;--checkbox-captcha-border:1px solid #d9d9d9;--checkbox-captcha-border-radius:11px;--anchor-background-color:#313036;--anchor-background-color-error:rgba(255</th>\n",
       "      <td id=\"T_09807_row11_col0\" class=\"data row11 col0\" >0.000000</td>\n",
       "      <td id=\"T_09807_row11_col1\" class=\"data row11 col1\" >nan</td>\n",
       "    </tr>\n",
       "    <tr>\n",
       "      <th id=\"T_09807_level0_row12\" class=\"row_heading level0 row12\" >powPrefix:\"743D313734393033363733383B703D62616639336264382D64396338323564332D31303262623331612D363033373035613B633D31353B643D31433030353332364345433446373335353746463642364536414435323946323B\"</th>\n",
       "      <td id=\"T_09807_row12_col0\" class=\"data row12 col0\" >0.000000</td>\n",
       "      <td id=\"T_09807_row12_col1\" class=\"data row12 col1\" >nan</td>\n",
       "    </tr>\n",
       "    <tr>\n",
       "      <th id=\"T_09807_level0_row13\" class=\"row_heading level0 row13\" >uniqueKey:\"6695404158449379722\"</th>\n",
       "      <td id=\"T_09807_row13_col0\" class=\"data row13 col0\" >0.000000</td>\n",
       "      <td id=\"T_09807_row13_col1\" class=\"data row13 col1\" >nan</td>\n",
       "    </tr>\n",
       "    <tr>\n",
       "      <th id=\"T_09807_level0_row14\" class=\"row_heading level0 row14\" >reqId:\"\"</th>\n",
       "      <td id=\"T_09807_row14_col0\" class=\"data row14 col0\" >0.000000</td>\n",
       "      <td id=\"T_09807_row14_col1\" class=\"data row14 col1\" >nan</td>\n",
       "    </tr>\n",
       "    <tr>\n",
       "      <th id=\"T_09807_level0_row15\" class=\"row_heading level0 row15\" >aesSign:\"1_1749036738_3029400619618018848_8479b309597bf1d6d7d03669889328bf\"</th>\n",
       "      <td id=\"T_09807_row15_col0\" class=\"data row15 col0\" >0.000000</td>\n",
       "      <td id=\"T_09807_row15_col1\" class=\"data row15 col1\" >nan</td>\n",
       "    </tr>\n",
       "    <tr>\n",
       "      <th id=\"T_09807_level0_row16\" class=\"row_heading level0 row16\" >aesKey:\"+3i4b/3+4xB7ZYDtw7Lm1/a58oZF0YqCdY0rf6bYJgA=\"</th>\n",
       "      <td id=\"T_09807_row16_col0\" class=\"data row16 col0\" >0.000000</td>\n",
       "      <td id=\"T_09807_row16_col1\" class=\"data row16 col1\" >nan</td>\n",
       "    </tr>\n",
       "    <tr>\n",
       "      <th id=\"T_09807_level0_row17\" class=\"row_heading level0 row17\" >introSrc:\"\"</th>\n",
       "      <td id=\"T_09807_row17_col0\" class=\"data row17 col0\" >0.000000</td>\n",
       "      <td id=\"T_09807_row17_col1\" class=\"data row17 col1\" >nan</td>\n",
       "    </tr>\n",
       "    <tr>\n",
       "      <th id=\"T_09807_level0_row18\" class=\"row_heading level0 row18\" >voiceSrc:\"\"</th>\n",
       "      <td id=\"T_09807_row18_col0\" class=\"data row18 col0\" >0.000000</td>\n",
       "      <td id=\"T_09807_row18_col1\" class=\"data row18 col1\" >nan</td>\n",
       "    </tr>\n",
       "    <tr>\n",
       "      <th id=\"T_09807_level0_row19\" class=\"row_heading level0 row19\" >task:\"\"</th>\n",
       "      <td id=\"T_09807_row19_col0\" class=\"data row19 col0\" >0.000000</td>\n",
       "      <td id=\"T_09807_row19_col1\" class=\"data row19 col1\" >nan</td>\n",
       "    </tr>\n",
       "    <tr>\n",
       "      <th id=\"T_09807_level0_row20\" class=\"row_heading level0 row20\" >n</th>\n",
       "      <td id=\"T_09807_row20_col0\" class=\"data row20 col0\" >0.000000</td>\n",
       "      <td id=\"T_09807_row20_col1\" class=\"data row20 col1\" >nan</td>\n",
       "    </tr>\n",
       "    <tr>\n",
       "      <th id=\"T_09807_level0_row21\" class=\"row_heading level0 row21\" >t.2</th>\n",
       "      <td id=\"T_09807_row21_col0\" class=\"data row21 col0\" >0.000000</td>\n",
       "      <td id=\"T_09807_row21_col1\" class=\"data row21 col1\" >nan</td>\n",
       "    </tr>\n",
       "    <tr>\n",
       "      <th id=\"T_09807_level0_row22\" class=\"row_heading level0 row22\" >a</th>\n",
       "      <td id=\"T_09807_row22_col0\" class=\"data row22 col0\" >0.000000</td>\n",
       "      <td id=\"T_09807_row22_col1\" class=\"data row22 col1\" >nan</td>\n",
       "    </tr>\n",
       "    <tr>\n",
       "      <th id=\"T_09807_level0_row23\" class=\"row_heading level0 row23\" >c){e.ym=e.ym||function(){(e.ym.a=e.ym.a||[]).push(arguments)}</th>\n",
       "      <td id=\"T_09807_row23_col0\" class=\"data row23 col0\" >0.000000</td>\n",
       "      <td id=\"T_09807_row23_col1\" class=\"data row23 col1\" >nan</td>\n",
       "    </tr>\n",
       "    <tr>\n",
       "      <th id=\"T_09807_level0_row24\" class=\"row_heading level0 row24\" >params:{req_id:\"\"</th>\n",
       "      <td id=\"T_09807_row24_col0\" class=\"data row24 col0\" >0.000000</td>\n",
       "      <td id=\"T_09807_row24_col1\" class=\"data row24 col1\" >nan</td>\n",
       "    </tr>\n",
       "    <tr>\n",
       "      <th id=\"T_09807_level0_row25\" class=\"row_heading level0 row25\" >ut:\"noindex\"</th>\n",
       "      <td id=\"T_09807_row25_col0\" class=\"data row25 col0\" >0.000000</td>\n",
       "      <td id=\"T_09807_row25_col1\" class=\"data row25 col1\" >nan</td>\n",
       "    </tr>\n",
       "    <tr>\n",
       "      <th id=\"T_09807_level0_row26\" class=\"row_heading level0 row26\" >webvisor:!0</th>\n",
       "      <td id=\"T_09807_row26_col0\" class=\"data row26 col0\" >0.000000</td>\n",
       "      <td id=\"T_09807_row26_col1\" class=\"data row26 col1\" >nan</td>\n",
       "    </tr>\n",
       "    <tr>\n",
       "      <th id=\"T_09807_level0_row27\" class=\"row_heading level0 row27\" >accurateTrackBounce:!0</th>\n",
       "      <td id=\"T_09807_row27_col0\" class=\"data row27 col0\" >0.000000</td>\n",
       "      <td id=\"T_09807_row27_col1\" class=\"data row27 col1\" >nan</td>\n",
       "    </tr>\n",
       "    <tr>\n",
       "      <th id=\"T_09807_level0_row28\" class=\"row_heading level0 row28\" >trackLinks:!0</th>\n",
       "      <td id=\"T_09807_row28_col0\" class=\"data row28 col0\" >0.000000</td>\n",
       "      <td id=\"T_09807_row28_col1\" class=\"data row28 col1\" >nan</td>\n",
       "    </tr>\n",
       "    <tr>\n",
       "      <th id=\"T_09807_level0_row29\" class=\"row_heading level0 row29\" >{clickmap:!0</th>\n",
       "      <td id=\"T_09807_row29_col0\" class=\"data row29 col0\" >0.000000</td>\n",
       "      <td id=\"T_09807_row29_col1\" class=\"data row29 col1\" >nan</td>\n",
       "    </tr>\n",
       "    <tr>\n",
       "      <th id=\"T_09807_level0_row30\" class=\"row_heading level0 row30\" >init</th>\n",
       "      <td id=\"T_09807_row30_col0\" class=\"data row30 col0\" >0.000000</td>\n",
       "      <td id=\"T_09807_row30_col1\" class=\"data row30 col1\" >nan</td>\n",
       "    </tr>\n",
       "    <tr>\n",
       "      <th id=\"T_09807_level0_row31\" class=\"row_heading level0 row31\" >ym(10630330</th>\n",
       "      <td id=\"T_09807_row31_col0\" class=\"data row31 col0\" >0.000000</td>\n",
       "      <td id=\"T_09807_row31_col1\" class=\"data row31 col1\" >nan</td>\n",
       "    </tr>\n",
       "    <tr>\n",
       "      <th id=\"T_09807_level0_row32\" class=\"row_heading level0 row32\" >script)</th>\n",
       "      <td id=\"T_09807_row32_col0\" class=\"data row32 col0\" >0.000000</td>\n",
       "      <td id=\"T_09807_row32_col1\" class=\"data row32 col1\" >nan</td>\n",
       "    </tr>\n",
       "    <tr>\n",
       "      <th id=\"T_09807_level0_row33\" class=\"row_heading level0 row33\" >document</th>\n",
       "      <td id=\"T_09807_row33_col0\" class=\"data row33 col0\" >0.000000</td>\n",
       "      <td id=\"T_09807_row33_col1\" class=\"data row33 col1\" >nan</td>\n",
       "    </tr>\n",
       "    <tr>\n",
       "      <th id=\"T_09807_level0_row34\" class=\"row_heading level0 row34\" >c)}(window</th>\n",
       "      <td id=\"T_09807_row34_col0\" class=\"data row34 col0\" >0.000000</td>\n",
       "      <td id=\"T_09807_row34_col1\" class=\"data row34 col1\" >nan</td>\n",
       "    </tr>\n",
       "    <tr>\n",
       "      <th id=\"T_09807_level0_row35\" class=\"row_heading level0 row35\" >c.parentNode.insertBefore(a</th>\n",
       "      <td id=\"T_09807_row35_col0\" class=\"data row35 col0\" >0.000000</td>\n",
       "      <td id=\"T_09807_row35_col1\" class=\"data row35 col1\" >nan</td>\n",
       "    </tr>\n",
       "    <tr>\n",
       "      <th id=\"T_09807_level0_row36\" class=\"row_heading level0 row36\" >a.src=\"https://mc.yandex.ru/metrika/tag.js\"</th>\n",
       "      <td id=\"T_09807_row36_col0\" class=\"data row36 col0\" >0.000000</td>\n",
       "      <td id=\"T_09807_row36_col1\" class=\"data row36 col1\" >nan</td>\n",
       "    </tr>\n",
       "    <tr>\n",
       "      <th id=\"T_09807_level0_row37\" class=\"row_heading level0 row37\" >a.async=1</th>\n",
       "      <td id=\"T_09807_row37_col0\" class=\"data row37 col0\" >0.000000</td>\n",
       "      <td id=\"T_09807_row37_col1\" class=\"data row37 col1\" >nan</td>\n",
       "    </tr>\n",
       "    <tr>\n",
       "      <th id=\"T_09807_level0_row38\" class=\"row_heading level0 row38\" >c=n.getElementsByTagName(t)[0]</th>\n",
       "      <td id=\"T_09807_row38_col0\" class=\"data row38 col0\" >0.000000</td>\n",
       "      <td id=\"T_09807_row38_col1\" class=\"data row38 col1\" >nan</td>\n",
       "    </tr>\n",
       "    <tr>\n",
       "      <th id=\"T_09807_level0_row39\" class=\"row_heading level0 row39\" >a=n.createElement(t)</th>\n",
       "      <td id=\"T_09807_row39_col0\" class=\"data row39 col0\" >0.000000</td>\n",
       "      <td id=\"T_09807_row39_col1\" class=\"data row39 col1\" >nan</td>\n",
       "    </tr>\n",
       "    <tr>\n",
       "      <th id=\"T_09807_level0_row40\" class=\"row_heading level0 row40\" >e.ym.l=+new Date</th>\n",
       "      <td id=\"T_09807_row40_col0\" class=\"data row40 col0\" >0.000000</td>\n",
       "      <td id=\"T_09807_row40_col1\" class=\"data row40 col1\" >nan</td>\n",
       "    </tr>\n",
       "    <tr>\n",
       "      <th id=\"T_09807_level0_row41\" class=\"row_heading level0 row41\" >taskImageSrc:\"\"</th>\n",
       "      <td id=\"T_09807_row41_col0\" class=\"data row41 col0\" >0.000000</td>\n",
       "      <td id=\"T_09807_row41_col1\" class=\"data row41 col1\" >nan</td>\n",
       "    </tr>\n",
       "    <tr>\n",
       "      <th id=\"T_09807_level0_row42\" class=\"row_heading level0 row42\" >imageSrc:\"\"</th>\n",
       "      <td id=\"T_09807_row42_col0\" class=\"data row42 col0\" >0.000000</td>\n",
       "      <td id=\"T_09807_row42_col1\" class=\"data row42 col1\" >nan</td>\n",
       "    </tr>\n",
       "    <tr>\n",
       "      <th id=\"T_09807_level0_row43\" class=\"row_heading level0 row43\" >captchaKey:\"6ff848d1-46f490e9-2b248755-a58be9ee_2/1749036738/ffddd0d276142f693be1f1a5d750f900_5abce60b74895b693bd308ca4f567fb1\"</th>\n",
       "      <td id=\"T_09807_row43_col0\" class=\"data row43 col0\" >0.000000</td>\n",
       "      <td id=\"T_09807_row43_col1\" class=\"data row43 col1\" >nan</td>\n",
       "    </tr>\n",
       "    <tr>\n",
       "      <th id=\"T_09807_level0_row44\" class=\"row_heading level0 row44\" >0.8</th>\n",
       "      <td id=\"T_09807_row44_col0\" class=\"data row44 col0\" >0.000000</td>\n",
       "      <td id=\"T_09807_row44_col1\" class=\"data row44 col1\" >nan</td>\n",
       "    </tr>\n",
       "    <tr>\n",
       "      <th id=\"T_09807_level0_row45\" class=\"row_heading level0 row45\" >0.7</th>\n",
       "      <td id=\"T_09807_row45_col0\" class=\"data row45 col0\" >0.000000</td>\n",
       "      <td id=\"T_09807_row45_col1\" class=\"data row45 col1\" >nan</td>\n",
       "    </tr>\n",
       "    <tr>\n",
       "      <th id=\"T_09807_level0_row46\" class=\"row_heading level0 row46\" >0.6</th>\n",
       "      <td id=\"T_09807_row46_col0\" class=\"data row46 col0\" >0.000000</td>\n",
       "      <td id=\"T_09807_row46_col1\" class=\"data row46 col1\" >nan</td>\n",
       "    </tr>\n",
       "    <tr>\n",
       "      <th id=\"T_09807_level0_row47\" class=\"row_heading level0 row47\" >0.1);--textinput-border-focused:2px solid rgba(0</th>\n",
       "      <td id=\"T_09807_row47_col0\" class=\"data row47 col0\" >0.000000</td>\n",
       "      <td id=\"T_09807_row47_col1\" class=\"data row47 col1\" >nan</td>\n",
       "    </tr>\n",
       "    <tr>\n",
       "      <th id=\"T_09807_level0_row48\" class=\"row_heading level0 row48\" >0.5</th>\n",
       "      <td id=\"T_09807_row48_col0\" class=\"data row48 col0\" >0.000000</td>\n",
       "      <td id=\"T_09807_row48_col1\" class=\"data row48 col1\" >nan</td>\n",
       "    </tr>\n",
       "    <tr>\n",
       "      <th id=\"T_09807_level0_row49\" class=\"row_heading level0 row49\" >0.4</th>\n",
       "      <td id=\"T_09807_row49_col0\" class=\"data row49 col0\" >0.000000</td>\n",
       "      <td id=\"T_09807_row49_col1\" class=\"data row49 col1\" >nan</td>\n",
       "    </tr>\n",
       "    <tr>\n",
       "      <th id=\"T_09807_level0_row50\" class=\"row_heading level0 row50\" >0.05);--textinput-border:2px solid rgba(0</th>\n",
       "      <td id=\"T_09807_row50_col0\" class=\"data row50 col0\" >0.000000</td>\n",
       "      <td id=\"T_09807_row50_col1\" class=\"data row50 col1\" >nan</td>\n",
       "    </tr>\n",
       "    <tr>\n",
       "      <th id=\"T_09807_level0_row51\" class=\"row_heading level0 row51\" >0.3</th>\n",
       "      <td id=\"T_09807_row51_col0\" class=\"data row51 col0\" >0.000000</td>\n",
       "      <td id=\"T_09807_row51_col1\" class=\"data row51 col1\" >nan</td>\n",
       "    </tr>\n",
       "    <tr>\n",
       "      <th id=\"T_09807_level0_row52\" class=\"row_heading level0 row52\" >0.2</th>\n",
       "      <td id=\"T_09807_row52_col0\" class=\"data row52 col0\" >0.000000</td>\n",
       "      <td id=\"T_09807_row52_col1\" class=\"data row52 col1\" >nan</td>\n",
       "    </tr>\n",
       "    <tr>\n",
       "      <th id=\"T_09807_level0_row53\" class=\"row_heading level0 row53\" >0.12);--anchor-background-color-checked:#5282ff;--anchor-check-mark-color:#fff;--anchor-border:2px solid #ccc;--spin-view-captcha-border-color:#5c81d1;--advanced-captcha-border-radius:11px;--advanced-captcha-image-preview-background-color:rgba(0</th>\n",
       "      <td id=\"T_09807_row53_col0\" class=\"data row53 col0\" >0.000000</td>\n",
       "      <td id=\"T_09807_row53_col1\" class=\"data row53 col1\" >nan</td>\n",
       "    </tr>\n",
       "    <tr>\n",
       "      <th id=\"T_09807_level0_row54\" class=\"row_heading level0 row54\" >51.1</th>\n",
       "      <td id=\"T_09807_row54_col0\" class=\"data row54 col0\" >0.000000</td>\n",
       "      <td id=\"T_09807_row54_col1\" class=\"data row54 col1\" >nan</td>\n",
       "    </tr>\n",
       "    <tr>\n",
       "      <th id=\"T_09807_level0_row55\" class=\"row_heading level0 row55\" >51</th>\n",
       "      <td id=\"T_09807_row55_col0\" class=\"data row55 col0\" >0.000000</td>\n",
       "      <td id=\"T_09807_row55_col1\" class=\"data row55 col1\" >nan</td>\n",
       "    </tr>\n",
       "    <tr>\n",
       "      <th id=\"T_09807_level0_row56\" class=\"row_heading level0 row56\" >0.15);--checkbox-captcha-border-radius:11px;--anchor-background-color:#fff;--anchor-background-color-error:rgba(255</th>\n",
       "      <td id=\"T_09807_row56_col0\" class=\"data row56 col0\" >0.000000</td>\n",
       "      <td id=\"T_09807_row56_col1\" class=\"data row56 col1\" >nan</td>\n",
       "    </tr>\n",
       "    <tr>\n",
       "      <th id=\"T_09807_level0_row57\" class=\"row_heading level0 row57\" >0.1</th>\n",
       "      <td id=\"T_09807_row57_col0\" class=\"data row57 col0\" >0.000000</td>\n",
       "      <td id=\"T_09807_row57_col1\" class=\"data row57 col1\" >nan</td>\n",
       "    </tr>\n",
       "    <tr>\n",
       "      <th id=\"T_09807_level0_row58\" class=\"row_heading level0 row58\" >0</th>\n",
       "      <td id=\"T_09807_row58_col0\" class=\"data row58 col0\" >0.000000</td>\n",
       "      <td id=\"T_09807_row58_col1\" class=\"data row58 col1\" >nan</td>\n",
       "    </tr>\n",
       "    <tr>\n",
       "      <th id=\"T_09807_level0_row59\" class=\"row_heading level0 row59\" > 0.12);--anchor-background-color-checked:#5c81d1;--anchor-check-mark-color:#fff;--anchor-border:2px solid #6b6b72;--spin-view-captcha-border-color:#5c81d1;--advanced-captcha-border-radius:24px;--advanced-captcha-image-preview-background-color:#414148;--textinput-border:2px solid #95969a;--textinput-border-focused:2px solid #adafb6;--textinput-view-default-fill-color-base:#6e6e73;--advanced-captcha-tooltip-background-color:#adafb6;--link-view-default-typo-color-base:red;--color-typo-ghost:var(--color-typo-primary);--color-base:#dfdfe0;--color-typo-primary:var(--color-base);--button-view-action-typo-color-base:#fff;--button-view-action-fill-color-base:#6b94f7;--button-view-action-fill-color-hovered:#5c81d1}}@media (prefers-color-scheme:light){.Theme_root_default{--smart-captcha-background-color:#fff;--checkbox-captcha-error-color:#f33;--checkbox-captcha-border:1px solid rgba(0</th>\n",
       "      <td id=\"T_09807_row59_col0\" class=\"data row59 col0\" >0.000000</td>\n",
       "      <td id=\"T_09807_row59_col1\" class=\"data row59 col1\" >nan</td>\n",
       "    </tr>\n",
       "    <tr>\n",
       "      <th id=\"T_09807_level0_row60\" class=\"row_heading level0 row60\" > 51.1</th>\n",
       "      <td id=\"T_09807_row60_col0\" class=\"data row60 col0\" >0.000000</td>\n",
       "      <td id=\"T_09807_row60_col1\" class=\"data row60 col1\" >nan</td>\n",
       "    </tr>\n",
       "    <tr>\n",
       "      <th id=\"T_09807_level0_row61\" class=\"row_heading level0 row61\" > 51</th>\n",
       "      <td id=\"T_09807_row61_col0\" class=\"data row61 col0\" >0.000000</td>\n",
       "      <td id=\"T_09807_row61_col1\" class=\"data row61 col1\" >nan</td>\n",
       "    </tr>\n",
       "    <tr>\n",
       "      <th id=\"T_09807_level0_row62\" class=\"row_heading level0 row62\" >0.3);--textinput-view-default-fill-color-base:#fff;--advanced-captcha-tooltip-background-color:#adafb6;--link-view-default-typo-color-base:#04b;--color-typo-ghost:rgba(0</th>\n",
       "      <td id=\"T_09807_row62_col0\" class=\"data row62 col0\" >0.000000</td>\n",
       "      <td id=\"T_09807_row62_col1\" class=\"data row62 col1\" >nan</td>\n",
       "    </tr>\n",
       "    <tr>\n",
       "      <th id=\"T_09807_level0_row63\" class=\"row_heading level0 row63\" >0.9</th>\n",
       "      <td id=\"T_09807_row63_col0\" class=\"data row63 col0\" >0.000000</td>\n",
       "      <td id=\"T_09807_row63_col1\" class=\"data row63 col1\" >nan</td>\n",
       "    </tr>\n",
       "    <tr>\n",
       "      <th id=\"T_09807_level0_row64\" class=\"row_heading level0 row64\" >formAction:\"/checkcaptcha?key=6ff848d1-46f490e9-2b248755-a58be9ee_2/1749036738/ffddd0d276142f693be1f1a5d750f900_5abce60b74895b693bd308ca4f567fb1&mt=2EB32A6282115CBF46C3147C4FE2EE6DC45900A9899A895CE86415F07AE0938BC32A57229992FC62172589C543A4E549691D43859DB9F77D5A7F9E1862A6D9EB0E0DACACE9A068D7DA678773356EE94F978257DD48A4D5BEC9AB7C724A2F74B1436F242E3E53CFD348FFE7376C1439AB49B5AD0D5DF09E7363502D4710B38E1C75543B32F6320875F8FA0321D2124A7A4678FB04F53D01E41961B161159A5EBC742DBC8B9C6AE4E873A0574D7CD6DB5F7C28858D9A644B3DAA170A734E911F5ECC080131F80ED2722BE9E015772BAC5D85C0048370D4E0CA3F5C73C78502&retpath=aHR0cHM6Ly9kaXNrLnlhbmRleC5ydS9kL0dydU9paldIbkpFMW9nPw%2C%2C_208abb8f8ea2576a56e2b3e56ab693f8&u=6695404158449379722&s=33836d06ef27c7db12db95cb4facc400\"</th>\n",
       "      <td id=\"T_09807_row64_col0\" class=\"data row64 col0\" >0.000000</td>\n",
       "      <td id=\"T_09807_row64_col1\" class=\"data row64 col1\" >nan</td>\n",
       "    </tr>\n",
       "    <tr>\n",
       "      <th id=\"T_09807_level0_row65\" class=\"row_heading level0 row65\" >0.3);--color-base:#000;--color-typo-primary:var(--color-base);--button-view-action-typo-color-base:#fff;--button-view-action-fill-color-base:#6b94f7;--button-view-action-fill-color-hovered:#5c81d1}}</style><div id=\"root\"><div class=\"Theme Theme_color_yandex-default Theme_root_default\"><main><div class=\"Container\"><div class=\"Spacer\" style=\"padding-bottom:40px\"><a href=\"https://www.ya.ru\" aria-label=\"Yandex\" class=\"Link Link_view_default LogoLink\"></a></div><form method=\"POST\" action=\"/checkcaptcha?key=6ff848d1-46f490e9-2b248755-a58be9ee_2/1749036738/ffddd0d276142f693be1f1a5d750f900_5abce60b74895b693bd308ca4f567fb1&mt=2EB32A6282115CBF46C3147C4FE2EE6DC45900A9899A895CE86415F07AE0938BC32A57229992FC62172589C543A4E549691D43859DB9F77D5A7F9E1862A6D9EB0E0DACACE9A068D7DA678773356EE94F978257DD48A4D5BEC9AB7C724A2F74B1436F242E3E53CFD348FFE7376C1439AB49B5AD0D5DF09E7363502D4710B38E1C75543B32F6320875F8FA0321D2124A7A4678FB04F53D01E41961B161159A5EBC742DBC8B9C6AE4E873A0574D7CD6DB5F7C28858D9A644B3DAA170A734E911F5ECC080131F80ED2722BE9E015772BAC5D85C0048370D4E0CA3F5C73C78502&retpath=aHR0cHM6Ly9kaXNrLnlhbmRleC5ydS9kL0dydU9paldIbkpFMW9nPw%2C%2C_208abb8f8ea2576a56e2b3e56ab693f8&u=6695404158449379722&s=33836d06ef27c7db12db95cb4facc400\" id=\"checkbox-captcha-form\"><div class=\"Spacer\" style=\"padding-bottom:16px\"><h1 class=\"Text Text_weight_medium Text_typography_headline-s\">Подтвердите</th>\n",
       "      <td id=\"T_09807_row65_col0\" class=\"data row65 col0\" >0.000000</td>\n",
       "      <td id=\"T_09807_row65_col1\" class=\"data row65 col1\" >nan</td>\n",
       "    </tr>\n",
       "    <tr>\n",
       "      <th id=\"T_09807_level0_row66\" class=\"row_heading level0 row66\" >invalid:\"no\"</th>\n",
       "      <td id=\"T_09807_row66_col0\" class=\"data row66 col0\" >0.000000</td>\n",
       "      <td id=\"T_09807_row66_col1\" class=\"data row66 col1\" >nan</td>\n",
       "    </tr>\n",
       "    <tr>\n",
       "      <th id=\"T_09807_level0_row67\" class=\"row_heading level0 row67\" >{page:\"checkbox\"})}</script> <script>window.__SSR_DATA__={url:\"/ru/checkbox\"</th>\n",
       "      <td id=\"T_09807_row67_col0\" class=\"data row67 col0\" >0.000000</td>\n",
       "      <td id=\"T_09807_row67_col1\" class=\"data row67 col1\" >nan</td>\n",
       "    </tr>\n",
       "    <tr>\n",
       "      <th id=\"T_09807_level0_row68\" class=\"row_heading level0 row68\" >t.1</th>\n",
       "      <td id=\"T_09807_row68_col0\" class=\"data row68 col0\" >0.000000</td>\n",
       "      <td id=\"T_09807_row68_col1\" class=\"data row68 col1\" >nan</td>\n",
       "    </tr>\n",
       "    <tr>\n",
       "      <th id=\"T_09807_level0_row69\" class=\"row_heading level0 row69\" >window.Ya)&&window.Ya.Rum&&window.Ya.Rum.logEventString&&window.Ya.Rum.logEventString(\"js_fail_force_submit_type\"</th>\n",
       "      <td id=\"T_09807_row69_col0\" class=\"data row69 col0\" >0.000000</td>\n",
       "      <td id=\"T_09807_row69_col1\" class=\"data row69 col1\" >nan</td>\n",
       "    </tr>\n",
       "    <tr>\n",
       "      <th id=\"T_09807_level0_row70\" class=\"row_heading level0 row70\" >n){0===n.indexOf(window.location.origin+\"/captcha_smart.34006bbf7a513fd1b63d.js\")&&(button.type=\"submit\"</th>\n",
       "      <td id=\"T_09807_row70_col0\" class=\"data row70 col0\" >0.000000</td>\n",
       "      <td id=\"T_09807_row70_col1\" class=\"data row70 col1\" >nan</td>\n",
       "    </tr>\n",
       "    <tr>\n",
       "      <th id=\"T_09807_level0_row71\" class=\"row_heading level0 row71\" >window.onerror=function(t</th>\n",
       "      <td id=\"T_09807_row71_col0\" class=\"data row71 col0\" >0.000000</td>\n",
       "      <td id=\"T_09807_row71_col1\" class=\"data row71 col1\" >nan</td>\n",
       "    </tr>\n",
       "    <tr>\n",
       "      <th id=\"T_09807_level0_row72\" class=\"row_heading level0 row72\" >!1)</th>\n",
       "      <td id=\"T_09807_row72_col0\" class=\"data row72 col0\" >0.000000</td>\n",
       "      <td id=\"T_09807_row72_col1\" class=\"data row72 col1\" >nan</td>\n",
       "    </tr>\n",
       "    <tr>\n",
       "      <th id=\"T_09807_level0_row73\" class=\"row_heading level0 row73\" >!1)}</th>\n",
       "      <td id=\"T_09807_row73_col0\" class=\"data row73 col0\" >0.000000</td>\n",
       "      <td id=\"T_09807_row73_col1\" class=\"data row73 col1\" >nan</td>\n",
       "    </tr>\n",
       "    <tr>\n",
       "      <th id=\"T_09807_level0_row74\" class=\"row_heading level0 row74\" >t</th>\n",
       "      <td id=\"T_09807_row74_col0\" class=\"data row74 col0\" >0.000000</td>\n",
       "      <td id=\"T_09807_row74_col1\" class=\"data row74 col1\" >nan</td>\n",
       "    </tr>\n",
       "    <tr>\n",
       "      <th id=\"T_09807_level0_row75\" class=\"row_heading level0 row75\" >this.removeEventListener(\"click\"</th>\n",
       "      <td id=\"T_09807_row75_col0\" class=\"data row75 col0\" >0.000000</td>\n",
       "      <td id=\"T_09807_row75_col1\" class=\"data row75 col1\" >nan</td>\n",
       "    </tr>\n",
       "    <tr>\n",
       "      <th id=\"T_09807_level0_row76\" class=\"row_heading level0 row76\" >function t(n){window.__JS_BUTTON_CLICKED__=!0</th>\n",
       "      <td id=\"T_09807_row76_col0\" class=\"data row76 col0\" >0.000000</td>\n",
       "      <td id=\"T_09807_row76_col1\" class=\"data row76 col1\" >nan</td>\n",
       "    </tr>\n",
       "    <tr>\n",
       "      <th id=\"T_09807_level0_row77\" class=\"row_heading level0 row77\" > воспользуйтесь <a href=\"https://yandex.ru/support/smart-captcha/problems.html?form-unique_key=6695404158449379722&form-fb-hint=8.73\" target=\"_blank\" class=\"Link Link_view_default\">формой обратной связи</a></span><div class=\"Spacer\" style=\"padding-top:10px\"><span class=\"Text Text_color_ghost Text_weight_light Text_typography_control-xxs\">6695404158449379722:1749036738</span></div></div></main></div></div><script>let button=document.getElementById(\"js-button\");button.addEventListener(\"click\"</th>\n",
       "      <td id=\"T_09807_row77_col0\" class=\"data row77 col0\" >0.000000</td>\n",
       "      <td id=\"T_09807_row77_col1\" class=\"data row77 col1\" >nan</td>\n",
       "    </tr>\n",
       "    <tr>\n",
       "      <th id=\"T_09807_level0_row78\" class=\"row_heading level0 row78\" > пожалуйста</th>\n",
       "      <td id=\"T_09807_row78_col0\" class=\"data row78 col0\" >0.000000</td>\n",
       "      <td id=\"T_09807_row78_col1\" class=\"data row78 col1\" >nan</td>\n",
       "    </tr>\n",
       "    <tr>\n",
       "      <th id=\"T_09807_level0_row79\" class=\"row_heading level0 row79\" > чтобы продолжить</span></span></div></div><div class=\"Text Text_color_ghost Text_weight_regular Text_typography_control-s CaptchaLinks CheckboxCaptcha-Links\"><button aria-label=\"Показать ссылки\" aria-pressed=\"false\" type=\"button\" class=\"CaptchaButton CaptchaButton_view_clear CaptchaButton_size_m CaptchaLinks-ToggleButton CaptchaLinks-ToggleButton_checkbox\"><svg class=\"SvgIcon\" xmlns=\"http://www.w3.org/2000/svg\" width=\"22\" height=\"22\" viewBox=\"0 0 22 22\" fill=\"none\"><path fill-rule=\"evenodd\" clip-rule=\"evenodd\" d=\"M11 18.5625C15.1766 18.5625 18.5625 15.1766 18.5625 11C18.5625 6.82334 15.1766 3.4375 11 3.4375C6.82334 3.4375 3.4375 6.82334 3.4375 11C3.4375 15.1766 6.82334 18.5625 11 18.5625ZM11 20.625C16.3157 20.625 20.625 16.3157 20.625 11C20.625 5.68426 16.3157 1.375 11 1.375C5.68426 1.375 1.375 5.68426 1.375 11C1.375 16.3157 5.68426 20.625 11 20.625ZM8.85528 6.24171C9.44645 5.75611 10.2222 5.46546 11 5.46546C12.6736 5.46546 14.2167 6.59336 14.2167 8.409C14.2167 8.92624 14.1095 9.43266 13.8078 9.92185C13.5213 10.3865 13.1023 10.7646 12.6048 11.1132C12.3057 11.3227 12.1569 11.4663 12.0839 11.5642C12.0312 11.6348 12.0312 11.661 12.0313 11.686L12.0313 11.6872C12.0313 12.2567 11.5695 12.7185 11 12.7185C10.4305 12.7185 9.96876 12.2567 9.96876 11.6872C9.96876 10.5945 10.7163 9.9179 11.4214 9.42397C11.806 9.15451 11.9732 8.9675 12.0523 8.83924C12.1163 8.73548 12.1542 8.62111 12.1542 8.409C12.1542 7.9976 11.8192 7.52796 11 7.52796C10.718 7.52796 10.401 7.6411 10.1644 7.83546C9.9342 8.02457 9.84579 8.22978 9.84579 8.409C9.84579 8.97854 9.38408 9.44025 8.81454 9.44025C8.24499 9.44025 7.78329 8.97854 7.78329 8.409C7.78329 7.48351 8.25771 6.73257 8.85528 6.24171ZM11 16.5C11.7594 16.5 12.375 15.8844 12.375 15.125C12.375 14.3656 11.7594 13.75 11 13.75C10.2406 13.75 9.625 14.3656 9.625 15.125C9.625 15.8844 10.2406 16.5 11 16.5Z\" fill=\"currentColor\"></path></svg></button><div class=\"CaptchaLinks-Links\"><a color=\"secondary\" target=\"_blank\" href=\"https://cloud.yandex.ru/services/smartcaptcha?utm_source=captcha&amp;utm_medium=chbx&amp;utm_campaign=security\" class=\"Link Link_color_secondary Link_view_captcha CaptchaLinks-ServiceLink\">SmartCaptcha by Yandex Cloud</a></div></div></div></div><input type=\"hidden\" name=\"rdata\"><input type=\"hidden\" name=\"pdata\" value=\"eyJwb3dDYWxjVGltZSI6LTEsInBvd05vbmNlIjoiIiwicG93UHJlZml4IjoiIn0=\"><input type=\"hidden\" name=\"tdata\"><input type=\"hidden\" name=\"picasso\"></form><span class=\"Text Text_color_ghost Text_weight_regular Text_typography_control-xs\">Если у вас возникли проблемы</th>\n",
       "      <td id=\"T_09807_row79_col0\" class=\"data row79 col0\" >0.000000</td>\n",
       "      <td id=\"T_09807_row79_col1\" class=\"data row79 col1\" >nan</td>\n",
       "    </tr>\n",
       "    <tr>\n",
       "      <th id=\"T_09807_level0_row80\" class=\"row_heading level0 row80\" > но запросы с вашего устройства похожи на автоматические.   <a href=\"https://yandex.ru/support/smart-captcha/problems.html?form-unique_key=6695404158449379722&form-fb-hint=8.73\" target=\"_blank\" class=\"Link Link_view_default\">Почему это могло произойти?</a></span></div><noscript><span class=\"Text Text_color_alert Text_weight_medium Text_typography_body-long-m\">У вас отключено исполнение JavaScript. По нажатию вы будете направлены на дополнительную проверку. <a href=\"https://yandex.ru/support/common/browsers-settings/browsers-java-js-settings.html\" target=\"_blank\" class=\"Link Link_view_default\">Как включить JavaScript?</a></span></noscript><div class=\"Spacer Spacer_auto-gap_bottom\" style=\"padding-top:40px;padding-bottom:40px\"><div class=\"CheckboxCaptcha CheckboxCaptcha_first_letter_highlighted\" data-testid=\"checkbox-captcha\"><div class=\"CheckboxCaptcha-Inner\"><div class=\"CheckboxCaptcha-Anchor\"><input type=\"button\" id=\"js-button\" class=\"CheckboxCaptcha-Button\" aria-checked=\"false\" aria-labelledby=\"checkbox-label\" aria-describedby=\"checkbox-description\" role=\"checkbox\"><noscript><input type=\"submit\" class=\"CheckboxCaptcha-Button\" aria-checked=\"false\" aria-labelledby=\"checkbox-label\" aria-describedby=\"checkbox-description\" role=\"checkbox\"></noscript><div class=\"CheckboxCaptcha-Checkbox\" data-checked=\"false\"><svg class=\"SvgIcon CheckIcon\" width=\"24\" height=\"24\" viewBox=\"0 0 24 25\" fill=\"none\"><path d=\"M4 12.5L9.5 18.5L20 6.5\" stroke=\"currentColor\" stroke-width=\"3\" stroke-linecap=\"round\" stroke-linejoin=\"round\"></path></svg></div></div><div class=\"CheckboxCaptcha-Label\"><span class=\"Text Text_weight_regular Text_typography_control-xxl CheckboxCaptcha-LabelText\"><span id=\"checkbox-label\">Я не робот </span></span><span class=\"Text Text_weight_regular Text_typography_control-l CheckboxCaptcha-SecondaryText\"><span id=\"checkbox-description\">Нажмите</th>\n",
       "      <td id=\"T_09807_row80_col0\" class=\"data row80 col0\" >0.000000</td>\n",
       "      <td id=\"T_09807_row80_col1\" class=\"data row80 col1\" >nan</td>\n",
       "    </tr>\n",
       "    <tr>\n",
       "      <th id=\"T_09807_level0_row81\" class=\"row_heading level0 row81\" > а не робот</h1></div><div class=\"Spacer\" style=\"padding-bottom:16px\"><span class=\"Text Text_weight_regular Text_typography_body-long-m\">Нам очень жаль</th>\n",
       "      <td id=\"T_09807_row81_col0\" class=\"data row81 col0\" >0.000000</td>\n",
       "      <td id=\"T_09807_row81_col1\" class=\"data row81 col1\" >nan</td>\n",
       "    </tr>\n",
       "    <tr>\n",
       "      <th id=\"T_09807_level0_row82\" class=\"row_heading level0 row82\" > что запросы отправляли вы</th>\n",
       "      <td id=\"T_09807_row82_col0\" class=\"data row82 col0\" >0.000000</td>\n",
       "      <td id=\"T_09807_row82_col1\" class=\"data row82 col1\" >nan</td>\n",
       "    </tr>\n",
       "    <tr>\n",
       "      <th id=\"T_09807_level0_row83\" class=\"row_heading level0 row83\" >unique_key:\"6695404158449379722\"}})</script><noscript><div><img src=\"https://mc.yandex.ru/watch/10630330?ut=noindex\" style=\"position:absolute;left:-9999px\" alt=\"\"></div></noscript><div><img src=\"https://adfstat.yandex.ru/captcha?req_id=&unique_key=6695404158449379722\" style=\"position:absolute;left:-9999px\" alt=\"\"></div></th>\n",
       "      <td id=\"T_09807_row83_col0\" class=\"data row83 col0\" >0.000000</td>\n",
       "      <td id=\"T_09807_row83_col1\" class=\"data row83 col1\" >nan</td>\n",
       "    </tr>\n",
       "  </tbody>\n",
       "</table>\n"
      ],
      "text/plain": [
       "<pandas.io.formats.style.Styler at 0x124224b50>"
      ]
     },
     "execution_count": 6,
     "metadata": {},
     "output_type": "execute_result"
    }
   ],
   "source": [
    "# ищу пропуски \n",
    "df_missing = df.copy() # Буду работать с копием        \n",
    "missing = pd.DataFrame({\n",
    "    'Кол-во пропусков': df_missing.isnull().sum(), \n",
    "    'Доля пропусков': df_missing.isnull().mean().round(4)})\n",
    "           \n",
    "missing.sort_values(by='Кол-во пропусков', ascending=False).style.background_gradient(cmap='coolwarm')"
   ]
  },
  {
   "cell_type": "code",
   "execution_count": 7,
   "id": "f6952f81",
   "metadata": {},
   "outputs": [
    {
     "ename": "KeyError",
     "evalue": "'user_id'",
     "output_type": "error",
     "traceback": [
      "\u001b[0;31m---------------------------------------------------------------------------\u001b[0m",
      "\u001b[0;31mKeyError\u001b[0m                                  Traceback (most recent call last)",
      "File \u001b[0;32m~/anaconda3/lib/python3.11/site-packages/pandas/core/indexes/base.py:3653\u001b[0m, in \u001b[0;36mIndex.get_loc\u001b[0;34m(self, key)\u001b[0m\n\u001b[1;32m   3652\u001b[0m \u001b[38;5;28;01mtry\u001b[39;00m:\n\u001b[0;32m-> 3653\u001b[0m     \u001b[38;5;28;01mreturn\u001b[39;00m \u001b[38;5;28mself\u001b[39m\u001b[38;5;241m.\u001b[39m_engine\u001b[38;5;241m.\u001b[39mget_loc(casted_key)\n\u001b[1;32m   3654\u001b[0m \u001b[38;5;28;01mexcept\u001b[39;00m \u001b[38;5;167;01mKeyError\u001b[39;00m \u001b[38;5;28;01mas\u001b[39;00m err:\n",
      "File \u001b[0;32m~/anaconda3/lib/python3.11/site-packages/pandas/_libs/index.pyx:147\u001b[0m, in \u001b[0;36mpandas._libs.index.IndexEngine.get_loc\u001b[0;34m()\u001b[0m\n",
      "File \u001b[0;32m~/anaconda3/lib/python3.11/site-packages/pandas/_libs/index.pyx:176\u001b[0m, in \u001b[0;36mpandas._libs.index.IndexEngine.get_loc\u001b[0;34m()\u001b[0m\n",
      "File \u001b[0;32mpandas/_libs/hashtable_class_helper.pxi:7080\u001b[0m, in \u001b[0;36mpandas._libs.hashtable.PyObjectHashTable.get_item\u001b[0;34m()\u001b[0m\n",
      "File \u001b[0;32mpandas/_libs/hashtable_class_helper.pxi:7088\u001b[0m, in \u001b[0;36mpandas._libs.hashtable.PyObjectHashTable.get_item\u001b[0;34m()\u001b[0m\n",
      "\u001b[0;31mKeyError\u001b[0m: 'user_id'",
      "\nThe above exception was the direct cause of the following exception:\n",
      "\u001b[0;31mKeyError\u001b[0m                                  Traceback (most recent call last)",
      "Cell \u001b[0;32mIn[7], line 3\u001b[0m\n\u001b[1;32m      1\u001b[0m \u001b[38;5;66;03m# Типы данных соответствуют, проверим, можно ли снизить их разрядность\u001b[39;00m\n\u001b[1;32m      2\u001b[0m \u001b[38;5;28;01mfor\u001b[39;00m column \u001b[38;5;129;01min\u001b[39;00m [\u001b[38;5;124m'\u001b[39m\u001b[38;5;124muser_id\u001b[39m\u001b[38;5;124m'\u001b[39m, \u001b[38;5;124m'\u001b[39m\u001b[38;5;124mage\u001b[39m\u001b[38;5;124m'\u001b[39m, \u001b[38;5;124m'\u001b[39m\u001b[38;5;124mquery_id\u001b[39m\u001b[38;5;124m'\u001b[39m, \u001b[38;5;124m'\u001b[39m\u001b[38;5;124mclick_position\u001b[39m\u001b[38;5;124m'\u001b[39m, \u001b[38;5;124m'\u001b[39m\u001b[38;5;124mview_time\u001b[39m\u001b[38;5;124m'\u001b[39m]:\n\u001b[0;32m----> 3\u001b[0m     df[column] \u001b[38;5;241m=\u001b[39m pd\u001b[38;5;241m.\u001b[39mto_numeric(df[column], downcast\u001b[38;5;241m=\u001b[39m\u001b[38;5;124m'\u001b[39m\u001b[38;5;124minteger\u001b[39m\u001b[38;5;124m'\u001b[39m)    \n\u001b[1;32m      4\u001b[0m     \u001b[38;5;28mprint\u001b[39m(\u001b[38;5;124mf\u001b[39m\u001b[38;5;124m'\u001b[39m\u001b[38;5;124mТип данных столбца \u001b[39m\u001b[38;5;132;01m{\u001b[39;00mcolumn\u001b[38;5;132;01m}\u001b[39;00m\u001b[38;5;124m после преобразования:\u001b[39m\u001b[38;5;124m'\u001b[39m, df[column]\u001b[38;5;241m.\u001b[39mdtype)\n",
      "File \u001b[0;32m~/anaconda3/lib/python3.11/site-packages/pandas/core/frame.py:3761\u001b[0m, in \u001b[0;36mDataFrame.__getitem__\u001b[0;34m(self, key)\u001b[0m\n\u001b[1;32m   3759\u001b[0m \u001b[38;5;28;01mif\u001b[39;00m \u001b[38;5;28mself\u001b[39m\u001b[38;5;241m.\u001b[39mcolumns\u001b[38;5;241m.\u001b[39mnlevels \u001b[38;5;241m>\u001b[39m \u001b[38;5;241m1\u001b[39m:\n\u001b[1;32m   3760\u001b[0m     \u001b[38;5;28;01mreturn\u001b[39;00m \u001b[38;5;28mself\u001b[39m\u001b[38;5;241m.\u001b[39m_getitem_multilevel(key)\n\u001b[0;32m-> 3761\u001b[0m indexer \u001b[38;5;241m=\u001b[39m \u001b[38;5;28mself\u001b[39m\u001b[38;5;241m.\u001b[39mcolumns\u001b[38;5;241m.\u001b[39mget_loc(key)\n\u001b[1;32m   3762\u001b[0m \u001b[38;5;28;01mif\u001b[39;00m is_integer(indexer):\n\u001b[1;32m   3763\u001b[0m     indexer \u001b[38;5;241m=\u001b[39m [indexer]\n",
      "File \u001b[0;32m~/anaconda3/lib/python3.11/site-packages/pandas/core/indexes/base.py:3655\u001b[0m, in \u001b[0;36mIndex.get_loc\u001b[0;34m(self, key)\u001b[0m\n\u001b[1;32m   3653\u001b[0m     \u001b[38;5;28;01mreturn\u001b[39;00m \u001b[38;5;28mself\u001b[39m\u001b[38;5;241m.\u001b[39m_engine\u001b[38;5;241m.\u001b[39mget_loc(casted_key)\n\u001b[1;32m   3654\u001b[0m \u001b[38;5;28;01mexcept\u001b[39;00m \u001b[38;5;167;01mKeyError\u001b[39;00m \u001b[38;5;28;01mas\u001b[39;00m err:\n\u001b[0;32m-> 3655\u001b[0m     \u001b[38;5;28;01mraise\u001b[39;00m \u001b[38;5;167;01mKeyError\u001b[39;00m(key) \u001b[38;5;28;01mfrom\u001b[39;00m \u001b[38;5;21;01merr\u001b[39;00m\n\u001b[1;32m   3656\u001b[0m \u001b[38;5;28;01mexcept\u001b[39;00m \u001b[38;5;167;01mTypeError\u001b[39;00m:\n\u001b[1;32m   3657\u001b[0m     \u001b[38;5;66;03m# If we have a listlike key, _check_indexing_error will raise\u001b[39;00m\n\u001b[1;32m   3658\u001b[0m     \u001b[38;5;66;03m#  InvalidIndexError. Otherwise we fall through and re-raise\u001b[39;00m\n\u001b[1;32m   3659\u001b[0m     \u001b[38;5;66;03m#  the TypeError.\u001b[39;00m\n\u001b[1;32m   3660\u001b[0m     \u001b[38;5;28mself\u001b[39m\u001b[38;5;241m.\u001b[39m_check_indexing_error(key)\n",
      "\u001b[0;31mKeyError\u001b[0m: 'user_id'"
     ]
    }
   ],
   "source": [
    "# Типы данных соответствуют, проверим, можно ли снизить их разрядность\n",
    "for column in ['user_id', 'age', 'query_id', 'click_position', 'view_time']:\n",
    "    df[column] = pd.to_numeric(df[column], downcast='integer')    \n",
    "    print(f'Тип данных столбца {column} после преобразования:', df[column].dtype)"
   ]
  },
  {
   "cell_type": "code",
   "execution_count": null,
   "id": "552518fa",
   "metadata": {},
   "outputs": [],
   "source": [
    "# Посмотрим на уникальные значения и их число \n",
    "for column in df.columns:\n",
    "    print(f'Число уникальных значений в столбце {column}:')\n",
    "    print(df[column].sort_values().nunique())\n",
    "    print(f'Уникальные значения в столбце {column}:')\n",
    "    print(df[column].sort_values().unique())\n",
    "    print()"
   ]
  },
  {
   "cell_type": "code",
   "execution_count": null,
   "id": "f82ddbd7",
   "metadata": {},
   "outputs": [],
   "source": [
    "# посмотрим на пользователей, у которых возраст стоит 0. \n",
    "df[df['age']==0]"
   ]
  },
  {
   "cell_type": "code",
   "execution_count": null,
   "id": "cc33e15d",
   "metadata": {},
   "outputs": [],
   "source": [
    "# Посмотрим на распределение значений с возрастом 0 по признаку пола\n",
    "df[df['age']==0]['sex'].value_counts()"
   ]
  },
  {
   "cell_type": "code",
   "execution_count": null,
   "id": "af66e4ff",
   "metadata": {},
   "outputs": [],
   "source": [
    "# Посмотрим на пользователей, у которых в столбце `doc_type` нет данных\n",
    "df[df['doc_type'].isna()]"
   ]
  },
  {
   "cell_type": "code",
   "execution_count": null,
   "id": "9b96f5e3",
   "metadata": {},
   "outputs": [],
   "source": [
    "# Посмотрим на распределение значений столбца 'click_position' в запросах, где нет данных в столбце 'doc_type'\n",
    "df[df['doc_type'].isna()]['click_position'].value_counts()"
   ]
  },
  {
   "cell_type": "code",
   "execution_count": null,
   "id": "3d5bfd2e",
   "metadata": {},
   "outputs": [],
   "source": [
    "# Посмотрим, какие действия производят пользователи6 если в 'doc_type' нет данных\n",
    "df[df['doc_type'].isna()]['event'].value_counts()"
   ]
  },
  {
   "cell_type": "code",
   "execution_count": null,
   "id": "b94f3425",
   "metadata": {},
   "outputs": [],
   "source": [
    "# Посмотрим на распределение значений столбц view_time' в запросах, где нет данных в столбце 'doc_type'\n",
    "df[df['doc_type'].isna()]['view_time'].value_counts()"
   ]
  },
  {
   "cell_type": "code",
   "execution_count": null,
   "id": "478229b1",
   "metadata": {},
   "outputs": [],
   "source": [
    "# и тоже самое сделаем для типа запросов\n",
    "df[df['doc_type'].isna()]['query_type'].value_counts()"
   ]
  },
  {
   "cell_type": "code",
   "execution_count": null,
   "id": "e1eb39ee",
   "metadata": {},
   "outputs": [],
   "source": [
    "# и платформы\n",
    "df[df['doc_type'].isna()]['platform'].value_counts()"
   ]
  },
  {
   "cell_type": "code",
   "execution_count": null,
   "id": "6e5dec43",
   "metadata": {},
   "outputs": [],
   "source": [
    "df[df['view_time']==0]['event'].value_counts()"
   ]
  },
  {
   "cell_type": "code",
   "execution_count": null,
   "id": "adbe14c0",
   "metadata": {},
   "outputs": [],
   "source": [
    "df[df['click_position']==0]['event'].value_counts()"
   ]
  },
  {
   "cell_type": "markdown",
   "id": "572f9605",
   "metadata": {},
   "source": [
    "Если в столбце `doc_type` нет данных, то пользователи осуществляют только поиск. И в столбцах `click_position` и `view_time` данные равны нулю. Значение 0 в столбце `click_position` видимо является заглушкой, согнализирующей об отсутствии последующего действия, так как в описании задания сказано, что первый элемент выдачи - 1. Однако значение 0 в столбцах `click_position` и `view_time` встречается не только для поиска но и для других действий. "
   ]
  },
  {
   "cell_type": "code",
   "execution_count": null,
   "id": "11362b44",
   "metadata": {},
   "outputs": [],
   "source": [
    "df.head()"
   ]
  },
  {
   "cell_type": "code",
   "execution_count": null,
   "id": "3002306a",
   "metadata": {},
   "outputs": [],
   "source": [
    "# Проверяю наличие полных явных дубликатов в датафрейме \n",
    "print('Количество дубликатов:', df.duplicated().sum())"
   ]
  },
  {
   "cell_type": "markdown",
   "id": "77794cd1",
   "metadata": {},
   "source": [
    "### Промежуточный вывод \n",
    "\n",
    "Предварительное знакомство с датасетом `analytics_test.csv` показало, что датасет содержит 20000 строк и 12 столбцев. Названия столбцев корректные, соответствуют информации, содержащейся в ней. В столбце `doc_type` содержится 4958 пропусков, что составляет 25% от общего числа сторок. Это пользователи, которые осуществляли только поиск. Для них значени в столбцах `click_position` и `view_time` равны 0. Распределение по теме запросов и по используемой платформе примерно равномерное.   \n",
    "В столбце `age`, возраст встречается 0, что может быть заглушкой, если пользователь, например, не указал свой возраст (но мне кажется, что при регистрации в ВК, указание возраста обязательно) Следующая цифра по возрастанию в столбце возраст - 10. Пол у пользователей с возрастом 0 по большей части оставлен анонимным, но встречаются как мужчины, так и женщины. Возможно, есть какая-то опция о приватности личных данных. Эти данные требуют уточнения.  \n",
    "При предварительном просмотре также понизила размерность целочисленных данных, явных полных дубликатов не обнаружила. "
   ]
  },
  {
   "cell_type": "markdown",
   "id": "9e938bd3",
   "metadata": {},
   "source": [
    "\n",
    "<div class=\"alert alert-info\">\n",
    "    \n",
    "## Исследовательский анализ данных\n",
    "<a id='eda'></a>\n",
    "</div>"
   ]
  },
  {
   "cell_type": "code",
   "execution_count": null,
   "id": "74e2148f",
   "metadata": {},
   "outputs": [],
   "source": [
    "df.head()"
   ]
  },
  {
   "cell_type": "markdown",
   "id": "a155d313",
   "metadata": {},
   "source": [
    "<div style=\"background-color:lightblue;\">\n",
    "    \n",
    "### Распределение событий \n",
    "\n",
    "</div>"
   ]
  },
  {
   "cell_type": "code",
   "execution_count": null,
   "id": "2daa5889",
   "metadata": {},
   "outputs": [],
   "source": [
    "# Посмотрим на распределение событий 'event' в нашем датасете \n",
    "pd.DataFrame({\n",
    "     'Кол-во событий': df['event'].value_counts(), \n",
    "    'Доля событий': df['event'].value_counts(normalize=True).round(2)})\n"
   ]
  },
  {
   "cell_type": "code",
   "execution_count": null,
   "id": "8fe61257",
   "metadata": {},
   "outputs": [],
   "source": [
    "# визуализируем его в долях\n",
    "grouped_event = df['event'].value_counts(normalize=True).sort_values(ascending = True)\n",
    "\n",
    "grouped_event.plot(kind='barh',\n",
    "                   title='Популярность действий пользователей',\n",
    "                   legend=False,\n",
    "                   ylabel='Название действия',\n",
    "                   xlabel='Число действий',\n",
    "                   edgecolor='grey',\n",
    "                   rot=0,\n",
    "                   figsize=(8, 5),\n",
    "                   color='lightblue')\n",
    "\n",
    "plt.grid()\n",
    "plt.show()"
   ]
  },
  {
   "cell_type": "markdown",
   "id": "89a46c0e",
   "metadata": {},
   "source": [
    "Больше всего пользователи кликают (33%) и что-то ищут (25%). "
   ]
  },
  {
   "cell_type": "code",
   "execution_count": null,
   "id": "3baa68b4",
   "metadata": {},
   "outputs": [],
   "source": [
    "# Посмотрим на разброс значений в столбце 'click_position' в зависимости от происходящего события\n",
    "plt.figure(figsize=(7, 4))\n",
    "sns.boxplot(x= 'event', \n",
    "            y='click_position', \n",
    "            data=df,\n",
    "            palette='Blues', \n",
    "            showmeans=True  \n",
    "            ).set(title = 'Разброс значений кликабельных позиций \\n в зависимости от действия', \n",
    "                             xlabel = 'Действие', \n",
    "                             ylabel = 'Номер позиции'\n",
    "                             )   \n",
    "\n",
    "plt.xticks(rotation=45)\n",
    "plt.grid()\n",
    "plt.show()"
   ]
  },
  {
   "cell_type": "markdown",
   "id": "f4379cae",
   "metadata": {},
   "source": [
    "Наименьшая позиция в выдаче поиска для поиска. Это мы уже знает, что оно равно 0. Остальные распределены относительно равномерно."
   ]
  },
  {
   "cell_type": "markdown",
   "id": "c07ae60b",
   "metadata": {},
   "source": [
    "<div style=\"background-color:lightblue;\">\n",
    "    \n",
    "### Распределение позиции документа в выдаче поиска по которму совершено событие и времени просмотра\n",
    "\n",
    "</div>"
   ]
  },
  {
   "cell_type": "code",
   "execution_count": null,
   "id": "ac62146f",
   "metadata": {},
   "outputs": [],
   "source": [
    "# Построим диаграмму размаха для столбца 'click_position'\n",
    "plt.figure(figsize = (10, 3))\n",
    "df.boxplot(column = 'click_position', vert = False, showfliers=True)\n",
    "plt.title('Распределение значений номера позиции документа \\n в выдаче поиска')\n",
    "plt.xlabel('Позиция документа, по которой совершается событие')\n",
    "\n",
    "\n",
    "plt.show()"
   ]
  },
  {
   "cell_type": "markdown",
   "id": "3fdcf508",
   "metadata": {},
   "source": [
    "Есть выбросы, но я бы не стала их исключать из анализа, они не выглядят на мой взгляд подозрительно."
   ]
  },
  {
   "cell_type": "code",
   "execution_count": null,
   "id": "318599c9",
   "metadata": {},
   "outputs": [],
   "source": [
    "plt.figure(figsize=(7, 4))\n",
    "sns.boxplot(x='query_type', \n",
    "            y='click_position', \n",
    "            data=df,\n",
    "            palette='Blues',\n",
    "            showmeans=True  \n",
    "            ).set(title = 'Разброс значений кликабельных позиций \\n в зависимости от темы запроса', \n",
    "                             xlabel = 'Тема запроса', \n",
    "                             ylabel = 'Номер позиции'\n",
    "                             )   \n",
    "\n",
    "plt.xticks(rotation=45)\n",
    "plt.grid()\n",
    "plt.show()"
   ]
  },
  {
   "cell_type": "markdown",
   "id": "fa6919e7",
   "metadata": {},
   "source": [
    "Самый большой разброс позиции документа в выдаче поиска для новостных запросов. Для них же отмечено самое больше значение и самые высокие среднее и медиана. То есть при чтении новостей люди часто открывают не первую позицию в выдаче. Это может говорить о том, что им не нравится то, что предлатается в начале."
   ]
  },
  {
   "cell_type": "code",
   "execution_count": null,
   "id": "c963d888",
   "metadata": {},
   "outputs": [],
   "source": [
    "# Посмотрим на средние значения 'click_position' и 'view_time' при разбивке по темам запроса 'query_type'\n",
    "\n",
    "grouped_type = df.groupby('query_type').agg({\n",
    "    'click_position': 'mean', \n",
    "    'view_time': 'mean'\n",
    "}).sort_values('click_position', ascending=True)\n",
    "# Построим столбчатые диаграммы на двух осях\n",
    "fig, ax1 = plt.subplots(figsize=(8, 5))\n",
    "ax2 = ax1.twiny()  \n",
    "\n",
    "bar_width = 0.35\n",
    "index = np.arange(len(grouped_type.index))\n",
    "\n",
    "# Номер позиции по которой кликает пользователь\n",
    "ax1.barh(index - bar_width/2, grouped_type['click_position'],\n",
    "         height=bar_width, color='blue', alpha=0.7, label='Позиция документа в выдаче поиска', edgecolor='grey')\n",
    "ax1.set_xlabel('Средний номер позиции', color='blue')\n",
    "\n",
    "# Время просмотра\n",
    "ax2.barh(index + bar_width/2, grouped_type['view_time'],\n",
    "         height=bar_width, color='lightblue', alpha=0.7, label='Время просмотра (с)', edgecolor='grey')\n",
    "ax2.set_xlabel('Среднее время просмотра', color='lightblue')\n",
    "\n",
    "# Общие настройки\n",
    "ax1.set_yticks(index)\n",
    "ax1.set_yticklabels(grouped_type.index)\n",
    "ax1.legend(loc='lower right')\n",
    "ax2.legend(loc='upper right')\n",
    "plt.grid()\n",
    "\n",
    "plt.tight_layout()"
   ]
  },
  {
   "cell_type": "code",
   "execution_count": null,
   "id": "db772ef6",
   "metadata": {},
   "outputs": [],
   "source": [
    "pd.pivot_table(df,\n",
    "                index='query_type',\n",
    "                values=['view_time', 'click_position'],\n",
    "                aggfunc=['mean', 'max', 'count'])"
   ]
  },
  {
   "cell_type": "markdown",
   "id": "70ffad0f",
   "metadata": {},
   "source": [
    "Ожидаемо, самое большое среднее время просмотра  и максимальное значение у фильмов. Средняя и максимальная наибольшая позиция документа, по которой кликают, - у новостей. При этом и время просмотра для новостной тематики не высокое.  Здесь нужно отметить, что число наблюдений по группам query_type одинаковое. "
   ]
  },
  {
   "cell_type": "markdown",
   "id": "15d835e3",
   "metadata": {},
   "source": [
    "Посмотрим, есть ли какая-то зависимость типа документа, кликабельной позиции и временем просмотра с другими данными."
   ]
  },
  {
   "cell_type": "code",
   "execution_count": null,
   "id": "48ee9338",
   "metadata": {},
   "outputs": [],
   "source": [
    "# Построим корреляционную матрицу\n",
    "cor_matrix = df.phik_matrix()\n",
    "plt.figure(figsize=(12,6))\n",
    "data_heatmap = cor_matrix[['click_position', 'doc_type', 'view_time']].sort_values(by='click_position', ascending=False)\n",
    "sns.heatmap(data_heatmap,\n",
    "           annot = True, \n",
    "           fmt='.2f', \n",
    "           cmap = 'coolwarm',\n",
    "           cbar = False\n",
    "           )\n",
    "\n",
    "plt.title('Тепловая карта коэффициента phi_k для типа документа')\n",
    "plt.xlabel('Тип документа')\n",
    "\n",
    "plt.show()"
   ]
  },
  {
   "cell_type": "markdown",
   "id": "d5b7c0db",
   "metadata": {},
   "source": [
    "Есть умеренная положительная корреляция позиции документа в поиске с темой, текстом запроса и действием; типа документа с темой запроса и текстом запроса; и времени просмотра с событием.  "
   ]
  },
  {
   "cell_type": "markdown",
   "id": "ca15456b",
   "metadata": {},
   "source": [
    "Тему с наибольшим средним числом позиции документа в поиске мы уже определели (новости). Теперь посмотрим на текст запросов и действия в запросах с далекой кликабельной позицией. Также посмотрим на другие выявленные корреляции. "
   ]
  },
  {
   "cell_type": "markdown",
   "id": "59f60594",
   "metadata": {},
   "source": [
    "<div style=\"background-color:lightblue;\">\n",
    "    \n",
    "### Выявление проблемных запросов. Гипотезы.\n",
    "\n",
    "</div>\n",
    "\n"
   ]
  },
  {
   "cell_type": "markdown",
   "id": "f76fd2aa",
   "metadata": {},
   "source": [
    "**1. Если пользователь совершает действие по позиции документа в выдаче поиска больше среднего значения, то выдача нерелевантна.**  "
   ]
  },
  {
   "cell_type": "code",
   "execution_count": null,
   "id": "790361c7",
   "metadata": {},
   "outputs": [],
   "source": [
    "# Найдем среднее значение позиции документа в выдаче поиска, по которому совершается действие\n",
    "df['click_position'].mean().round(2)"
   ]
  },
  {
   "cell_type": "markdown",
   "id": "bc4f8436",
   "metadata": {},
   "source": [
    "Среднее значение для числа кликов - 6. Будем считать это пороговым значением. Отфильтруем наш датасет по этой границе и выведем только топ-10. Я хочу сразу посмотреть на время посмотра. Если оно маленькое - значит человеку было не интересно и он не перешел ни на одну страницу поиска, поиск был нерелевантен. "
   ]
  },
  {
   "cell_type": "code",
   "execution_count": null,
   "id": "bc5865e1",
   "metadata": {},
   "outputs": [],
   "source": [
    "bad_clicks = df[df['click_position'] > 6].groupby('query_text').agg({\n",
    "    'click_position': 'mean', \n",
    "    'view_time': 'mean'\n",
    "}).sort_values('click_position', ascending=False).head(10)\n",
    "bad_clicks"
   ]
  },
  {
   "cell_type": "markdown",
   "id": "9957e07b",
   "metadata": {},
   "source": [
    "Все запросы связаны с новостной тематикой.  \n",
    "Дополнительно отфильтрую датасет, оставив в нем те запросы, в которых время просмотра равно 0. Большое число кликов и нулевое время просмотра могут значить нерелевантную выдачу. "
   ]
  },
  {
   "cell_type": "markdown",
   "id": "84be24b9",
   "metadata": {},
   "source": [
    "**2. Если время просмотра равно нулю и кликабельная позиция выше средней - поиск по запросу не релевантен**"
   ]
  },
  {
   "cell_type": "code",
   "execution_count": null,
   "id": "fadc9bed",
   "metadata": {},
   "outputs": [],
   "source": [
    "bad_clicks_views = df[\n",
    "    (df['click_position'] > 6)&\n",
    "    (df['view_time'] ==0)\n",
    "].groupby('query_text')['click_position'].mean().sort_values(ascending=False).head(10)\n",
    "\n",
    "bad_clicks_views.plot(kind='barh', \n",
    "                        title='Топ-10 запросов с высокой позицией документа в выдаче\\n и нулевым временем просмотров', \n",
    "                        color='lightblue', \n",
    "                        edgecolor='grey')\n",
    "\n",
    "plt.xlabel('Средняя позиция документы в выдаче')\n",
    "plt.ylabel('Запрос')\n",
    "plt.grid()\n",
    "plt.show()"
   ]
  },
  {
   "cell_type": "markdown",
   "id": "f7d249ec",
   "metadata": {},
   "source": [
    "Также все запросы остались с новостной тематикой.  Продолжим изучение коротких просмотров. "
   ]
  },
  {
   "cell_type": "markdown",
   "id": "bdc5ef42",
   "metadata": {},
   "source": [
    "**3. Если время просмотра короткое (равно 0), то результаты поиска скорее всего не заинтересовали**"
   ]
  },
  {
   "cell_type": "code",
   "execution_count": null,
   "id": "1db9d1a2",
   "metadata": {},
   "outputs": [],
   "source": [
    "bad_views_text = df[df['view_time'] ==0].groupby('query_text')['view_time'].count().sort_values(ascending=False).head(10)\n",
    "\n",
    "bad_views_text.plot(kind='barh', \n",
    "                        title='Топ-10 запросов с нулевым временем просмотров', \n",
    "                        color='lightblue', \n",
    "                        edgecolor='grey')\n",
    "plt.xlabel('Число нулевых просмотров')\n",
    "plt.ylabel('Запрос')\n",
    "plt.grid()\n",
    "plt.show()"
   ]
  },
  {
   "cell_type": "markdown",
   "id": "dccb282c",
   "metadata": {},
   "source": [
    "Наибольшее число запросов, в которых время просмотра равно 0, связано с фильмами. "
   ]
  },
  {
   "cell_type": "code",
   "execution_count": null,
   "id": "4b19fdbb",
   "metadata": {
    "scrolled": true
   },
   "outputs": [],
   "source": [
    "# посмотрим, какие темы для поиска приводят к нулевым просмотрам\n",
    "bad_views_type = df[df['view_time'] ==0]['query_type'].value_counts().sort_values(ascending = True)\n",
    "\n",
    "bad_views_type.plot(kind='barh',\n",
    "                   title='Количество поисков по тематике при нулевом времени просмотра',\n",
    "                   legend=False,\n",
    "                   ylabel='Тема поиска',\n",
    "                   xlabel='Число поисков',\n",
    "                   edgecolor='grey',\n",
    "                   color='lightblue')\n",
    "\n",
    "plt.grid()\n",
    "plt.show()"
   ]
  },
  {
   "cell_type": "markdown",
   "id": "3b531f56",
   "metadata": {},
   "source": [
    "Но если смотреть темы отдельно, кажется, что нет лидеров и аутсайдеров."
   ]
  },
  {
   "cell_type": "code",
   "execution_count": null,
   "id": "66e07ce5",
   "metadata": {},
   "outputs": [],
   "source": [
    "# посмотрим, какие события сопровождаются нулевыми просмотрами\n",
    "bad_views_event = df[df['view_time'] ==0]['event'].value_counts().sort_values(ascending = True)\n",
    "\n",
    "bad_views_event.plot(kind='barh',\n",
    "                   title='Действия пользователей при нулевом просмотре',\n",
    "                   legend=False,\n",
    "                   ylabel='Название действия',\n",
    "                   xlabel='Число действий',\n",
    "                   edgecolor='grey',\n",
    "                   color='lightblue')\n",
    "\n",
    "plt.grid()\n",
    "plt.show()"
   ]
  },
  {
   "cell_type": "markdown",
   "id": "e4e754cb",
   "metadata": {},
   "source": [
    "Нулевые просмотры даже приводят к тому, что пользователи лайкают, подписываются и делятся найденным контентом (это было замечено и выше). Однако наиболее популярное действие, не сопровождающееся просмотром, - просто кликанье и поиск. "
   ]
  },
  {
   "cell_type": "code",
   "execution_count": null,
   "id": "9d57a936",
   "metadata": {},
   "outputs": [],
   "source": [
    "# Посмотрим, как действия с нулевым времением распределены по темам\n",
    "pd.pivot_table(df[df['view_time'] ==0],\n",
    "                        values='query_id', \n",
    "                        index='query_type', \n",
    "                        columns='event', \n",
    "                        aggfunc='nunique')"
   ]
  },
  {
   "cell_type": "markdown",
   "id": "fb3502e7",
   "metadata": {},
   "source": [
    "Чаще всего днействия с нулевым временем встречаются при кликании по теме новости. Дальше шшоу, фильмы и музыка. Меньше всего нулевых просмотров при шеринге музыкой и подпиской на новости."
   ]
  },
  {
   "cell_type": "code",
   "execution_count": null,
   "id": "3ed97195",
   "metadata": {},
   "outputs": [],
   "source": [
    "# тогда еще посмотрим, в каком типе контента больше всего встречаются нулевые просмотры\n",
    "bad_views_doc = df[df['view_time'] ==0]['doc_type'].value_counts().sort_values(ascending = True)\n",
    "\n",
    "bad_views_doc.plot(kind='barh',\n",
    "                   title='Популярность типа контента среди нулевых просмотров',\n",
    "                   legend=False,\n",
    "                   ylabel='Тип контента',\n",
    "                   xlabel='Число запросов',\n",
    "                   edgecolor='grey',\n",
    "                   color='lightblue')\n",
    "\n",
    "plt.grid()\n",
    "plt.show()"
   ]
  },
  {
   "cell_type": "markdown",
   "id": "d7855104",
   "metadata": {},
   "source": [
    "Наиболее характерно нулевое время просмотра для клипов. Наименее характерно - для плейлистов."
   ]
  },
  {
   "cell_type": "markdown",
   "id": "a24f417c",
   "metadata": {},
   "source": [
    "**4. Если мало лайков и шерингов, то результаты поиска не вызывают интерес и вовлеченность**"
   ]
  },
  {
   "cell_type": "code",
   "execution_count": null,
   "id": "ae7f64d6",
   "metadata": {},
   "outputs": [],
   "source": [
    "# Посмотрим на топ-10 запросов с низкой вовлеченностью\n",
    "low_intrest = df[df['event'].isin(['like', 'share'])]['query_text'].value_counts()\n",
    "print('\\nТоп-10 запросов с низкой вовлечённостью:\\n', low_intrest.tail(10))"
   ]
  },
  {
   "cell_type": "code",
   "execution_count": null,
   "id": "82e3ff77",
   "metadata": {},
   "outputs": [],
   "source": [
    "# Посмотрим, какая тема вывывает наименьшую вовлеченность\n",
    "low_intrest_type = df[~df['event'].isin(['like', 'share'])]['query_type'].value_counts().sort_values(ascending = True)\n",
    "\n",
    "low_intrest_type.plot(kind='barh',\n",
    "                   title='Темы с низкой вовлечённостью',\n",
    "                   legend=False,\n",
    "                   ylabel='Тема запроса',\n",
    "                   xlabel='Число запросов',\n",
    "                   edgecolor='grey',\n",
    "                   color='lightblue')\n",
    "\n",
    "plt.grid()\n",
    "plt.show()"
   ]
  },
  {
   "cell_type": "markdown",
   "id": "d1616290",
   "metadata": {},
   "source": [
    "Темы с низкой вовлеченностью - новости и фильмы. Им меньше всего ставят лайков и реже делятся. "
   ]
  },
  {
   "cell_type": "code",
   "execution_count": null,
   "id": "b81cc0a5",
   "metadata": {},
   "outputs": [],
   "source": [
    "# И какой тип контента менее интересен\n",
    "low_intrest_doc = df[~df['event'].isin(['like', 'share'])]['doc_type'].value_counts().sort_values(ascending = True)\n",
    "\n",
    "low_intrest_doc.plot(kind='barh',\n",
    "                   title='Типы контента с низкой вовлечённостью',\n",
    "                   legend=False,\n",
    "                   ylabel='Тип контента',\n",
    "                   xlabel='Число запросов',\n",
    "                   edgecolor='grey',\n",
    "                   color='lightblue')\n",
    "\n",
    "plt.grid()\n",
    "plt.show()"
   ]
  },
  {
   "cell_type": "markdown",
   "id": "e31f956d",
   "metadata": {},
   "source": [
    "Клипы и видео вызывают меньше всего интереса, им реже ставят лайки и ими реже деляться с друзьями."
   ]
  },
  {
   "cell_type": "markdown",
   "id": "cc633b18",
   "metadata": {},
   "source": [
    "**5. Пересечение поисковых текстов**"
   ]
  },
  {
   "cell_type": "code",
   "execution_count": null,
   "id": "d1a8b0f8",
   "metadata": {},
   "outputs": [],
   "source": [
    "# Построим диаграмму Венна\n",
    "set_intrest = set(df[df['event'].isin(['like', 'share'])]['query_text'])\n",
    "set_view = set(df[df['view_time'] ==0]['query_text'])\n",
    "set_click = set(df[df['click_position'] > 6]['query_text'])\n",
    "\n",
    "venn3([set_intrest, set_view, set_click], set_labels=('Не интересно', 'Нет просмотров', 'Высокая позиция клика в поиске'))\n",
    "\n",
    "\n",
    "plt.title('Пересечение текстовых запросов')\n",
    "plt.show()"
   ]
  },
  {
   "cell_type": "markdown",
   "id": "9c23ecd8",
   "metadata": {},
   "source": [
    "1125 запросов попадают во все использованные фильтрации. То есть у 1125 запросов из 20000 нулевое время просмотра, номер позиции клика больше 6 и их не лайкают и ими не делятся пользователи. Это что-то около 5%. Не уверена, что это критично. \n"
   ]
  },
  {
   "cell_type": "markdown",
   "id": "bc7b50bd",
   "metadata": {},
   "source": [
    "### Промежуточный вывод\n",
    "\n",
    "В результате исследовательского анализа посмотрела на распределение числовых данных, построила их боксплоты. Посмотрела на корреляцию некоторых признаков, которые на мой взгляд могли бы говорить о релевантности контента в поиске. Были выдвинуты следующие гипотезы: \n",
    "1. Если пользователь совершает действие по позиции документа в выдаче поиска больше среднего значения, то выдача не релевантна  \n",
    "2. Если время просмотра равно нулю и кликабельная позиция выше средней - поиск по запросу не релевантен  \n",
    "3. Если время просмотра короткое (равно 0), то результаты поиска скорее всего не заинтересовали  \n",
    "4. Если мало лайков и шерингов, то результаты поиска не вызывают интерес и вовлеченность  \n",
    "\n",
    "Для проверки гипотез были посчитаны и визуализированы число значений, среднее при разбивке на различные группы. \n",
    "\n",
    "Наибольшая позиция документа в выдаче поиска оказалась характерна для новостных поисков. Наибольшее число запросов, в которых время просмотра равно 0, было связано с фильмами. Но если смотреть наибольшую позицию документа в выдаче поиска и нулевое время просмотра, то нерелевантными остаются новостные запросы. Ими меньше делятся, им меньше ставят лайков (отсутствие лайков конечно может быть связано с тем, что новость в негативном ключе, а не потому что она неинтересная). "
   ]
  },
  {
   "cell_type": "markdown",
   "id": "5dde1054",
   "metadata": {},
   "source": [
    "<div class=\"alert alert-info\">\n",
    "    \n",
    "## Итоговый вывод\n",
    "<a id='summary'></a>\n",
    "</div>"
   ]
  },
  {
   "cell_type": "markdown",
   "id": "6f7baf37",
   "metadata": {},
   "source": [
    "- Поиск показывает плохое качесвто в случае новостных запросов. \n",
    "- Пользователи открывают в среднем 11 позицию документа в выдаче поиска. Возможно, проблема в алгоритме ранжирования например.\n",
    "- Пользователи быстро покидают платформу, может быть низкое качество контента по темам шоу и новостей (по этим темам наиболее часто встречается время просмотра равное 0). \n",
    "- Низкая вовлеченность пользователей при поиске новостей и фильмов. Им редко ставят лайки и редко делятся с друзбями. Тоже касается клипов и видео. \n",
    "\n",
    "\n",
    "Что делать дальше?\n",
    "- A/B-тестирование новых алгоритмов ранжирования для новостных запросов.\n",
    "- Опрос пользователей, чтобы понять, почему они не вовлекаются.\n"
   ]
  },
  {
   "cell_type": "markdown",
   "id": "c4be92ef",
   "metadata": {},
   "source": [
    "PS буду благодарна за обратную связь"
   ]
  },
  {
   "cell_type": "code",
   "execution_count": null,
   "id": "21b8d265",
   "metadata": {},
   "outputs": [],
   "source": []
  }
 ],
 "metadata": {
  "kernelspec": {
   "display_name": "Python 3 (ipykernel)",
   "language": "python",
   "name": "python3"
  },
  "language_info": {
   "codemirror_mode": {
    "name": "ipython",
    "version": 3
   },
   "file_extension": ".py",
   "mimetype": "text/x-python",
   "name": "python",
   "nbconvert_exporter": "python",
   "pygments_lexer": "ipython3",
   "version": "3.11.8"
  }
 },
 "nbformat": 4,
 "nbformat_minor": 5
}
